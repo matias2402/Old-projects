{
 "cells": [
  {
   "cell_type": "markdown",
   "metadata": {
    "tags": []
   },
   "source": [
    "# Advanced Microeconometrics EXAM 2022:\n",
    "## Part II (New Assignment)\n",
    "*9:00 am January 14th to 9:00 am January 16th, 2023*\n",
    "\n",
    "**Hall & Kjølbye**"
   ]
  },
  {
   "cell_type": "markdown",
   "metadata": {},
   "source": [
    "## Contents"
   ]
  },
  {
   "cell_type": "markdown",
   "metadata": {},
   "source": [
    "1. [Cross Sectional Data](#Cross-Sectional-Data)\n",
    "    * [Q4](#Q4)\n",
    "    * [Q5](#Q5)\n",
    "    * [Q6](#Q6)\n",
    "    * [Q7](#Q7)\n",
    "2. [Panel Data](#Panel-Data)\n",
    "    * [Q9](#Q9)\n",
    "    * [Q10](#Q10)"
   ]
  },
  {
   "cell_type": "code",
   "execution_count": 162,
   "metadata": {},
   "outputs": [
    {
     "name": "stdout",
     "output_type": "stream",
     "text": [
      "The autoreload extension is already loaded. To reload it, use:\n",
      "  %reload_ext autoreload\n"
     ]
    }
   ],
   "source": [
    "%load_ext autoreload\n",
    "%autoreload 2\n",
    "\n",
    "# imports\n",
    "import pandas as pd \n",
    "import numpy as np\n",
    "from scipy.stats import cauchy\n",
    "from scipy.stats import chi2\n",
    "import matplotlib.pyplot as plt\n",
    "import seaborn as sns \n",
    "sns.set_theme()\n",
    "\n",
    "# user-written \n",
    "import estimation as est \n",
    "import binary\n",
    "\n",
    "# set seed\n",
    "np.random.seed(2023)"
   ]
  },
  {
   "cell_type": "markdown",
   "metadata": {},
   "source": [
    "# Cross Sectional Data"
   ]
  },
  {
   "cell_type": "markdown",
   "metadata": {},
   "source": [
    "### Q4-Q7\n",
    "[Contents](#Contents)"
   ]
  },
  {
   "cell_type": "markdown",
   "metadata": {},
   "source": [
    "#### Read data"
   ]
  },
  {
   "cell_type": "code",
   "execution_count": 163,
   "metadata": {},
   "outputs": [],
   "source": [
    "dat = pd.read_csv('cross_section.csv')\n",
    "x = dat[['x0', 'x1']].values\n",
    "y = dat['y'].values\n",
    "x_lab = ['beta0', 'beta1']\n",
    "y_lab = 'y'"
   ]
  },
  {
   "cell_type": "code",
   "execution_count": 164,
   "metadata": {},
   "outputs": [
    {
     "data": {
      "text/plain": [
       "0.867"
      ]
     },
     "execution_count": 164,
     "metadata": {},
     "output_type": "execute_result"
    }
   ],
   "source": [
    "dat.y.mean()"
   ]
  },
  {
   "cell_type": "markdown",
   "metadata": {},
   "source": [
    "#### Q4"
   ]
  },
  {
   "cell_type": "code",
   "execution_count": 165,
   "metadata": {},
   "outputs": [
    {
     "name": "stdout",
     "output_type": "stream",
     "text": [
      "Optimization terminated successfully.\n",
      "         Current function value: 0.358009\n",
      "         Iterations: 15\n",
      "         Function evaluations: 51\n",
      "         Gradient evaluations: 17\n"
     ]
    }
   ],
   "source": [
    "# compute results using binary methods\n",
    "theta0 = binary.starting_values(y,x)\n",
    "\n",
    "cross_res = est.estimate(binary.q,theta0,y,x,cov_type='Hessian',method='BFGS')\n",
    "\n",
    "# save\n",
    "\n",
    "theta_cross = cross_res['theta']\n",
    "cov_cross = cross_res['cov']"
   ]
  },
  {
   "cell_type": "code",
   "execution_count": 166,
   "metadata": {},
   "outputs": [
    {
     "name": "stdout",
     "output_type": "stream",
     "text": [
      "Optimizer succeded after 15 iter. (51 func. evals.). Final criterion:    0.358.\n",
      "Binary, y = y\n"
     ]
    },
    {
     "data": {
      "text/html": [
       "<div>\n",
       "<style scoped>\n",
       "    .dataframe tbody tr th:only-of-type {\n",
       "        vertical-align: middle;\n",
       "    }\n",
       "\n",
       "    .dataframe tbody tr th {\n",
       "        vertical-align: top;\n",
       "    }\n",
       "\n",
       "    .dataframe thead th {\n",
       "        text-align: right;\n",
       "    }\n",
       "</style>\n",
       "<table border=\"1\" class=\"dataframe\">\n",
       "  <thead>\n",
       "    <tr style=\"text-align: right;\">\n",
       "      <th></th>\n",
       "      <th>theta</th>\n",
       "      <th>se</th>\n",
       "      <th>t</th>\n",
       "    </tr>\n",
       "  </thead>\n",
       "  <tbody>\n",
       "    <tr>\n",
       "      <th>beta0</th>\n",
       "      <td>0.9355</td>\n",
       "      <td>0.1410</td>\n",
       "      <td>6.6339</td>\n",
       "    </tr>\n",
       "    <tr>\n",
       "      <th>beta1</th>\n",
       "      <td>2.6806</td>\n",
       "      <td>0.5284</td>\n",
       "      <td>5.0726</td>\n",
       "    </tr>\n",
       "  </tbody>\n",
       "</table>\n",
       "</div>"
      ],
      "text/plain": [
       "        theta      se       t\n",
       "beta0  0.9355  0.1410  6.6339\n",
       "beta1  2.6806  0.5284  5.0726"
      ]
     },
     "execution_count": 166,
     "metadata": {},
     "output_type": "execute_result"
    }
   ],
   "source": [
    "# print results\n",
    "\n",
    "cross_tab = est.print_table(x_lab, cross_res, title=f'Binary, y = {y_lab}')\n",
    "cross_tab"
   ]
  },
  {
   "cell_type": "code",
   "execution_count": 167,
   "metadata": {},
   "outputs": [
    {
     "name": "stdout",
     "output_type": "stream",
     "text": [
      "\\begin{tabular}{rrr}\n",
      "\\toprule\n",
      " theta &     se &      t \\\\\n",
      "\\midrule\n",
      "0.9355 & 0.1410 & 6.6339 \\\\\n",
      "2.6806 & 0.5284 & 5.0726 \\\\\n",
      "\\bottomrule\n",
      "\\end{tabular}\n",
      "\n"
     ]
    },
    {
     "name": "stderr",
     "output_type": "stream",
     "text": [
      "C:\\Users\\matia\\AppData\\Local\\Temp\\ipykernel_17416\\1433644721.py:2: FutureWarning: In future versions `DataFrame.to_latex` is expected to utilise the base implementation of `Styler.to_latex` for formatting and rendering. The arguments signature may therefore change. It is recommended instead to use `DataFrame.style.to_latex` which also contains additional functionality.\n",
      "  print(cross_tab.to_latex(index=False))\n"
     ]
    }
   ],
   "source": [
    "# print as latex code it put in paper\n",
    "print(cross_tab.to_latex(index=False))"
   ]
  },
  {
   "cell_type": "code",
   "execution_count": 168,
   "metadata": {},
   "outputs": [
    {
     "data": {
      "text/plain": [
       "0.8672200691056158"
      ]
     },
     "execution_count": 168,
     "metadata": {},
     "output_type": "execute_result"
    }
   ],
   "source": [
    "# average probability of success\n",
    "binary.G(x @ cross_res['theta']).mean()"
   ]
  },
  {
   "cell_type": "markdown",
   "metadata": {},
   "source": [
    "### Q5"
   ]
  },
  {
   "cell_type": "code",
   "execution_count": 169,
   "metadata": {},
   "outputs": [
    {
     "data": {
      "text/html": [
       "<div>\n",
       "<style scoped>\n",
       "    .dataframe tbody tr th:only-of-type {\n",
       "        vertical-align: middle;\n",
       "    }\n",
       "\n",
       "    .dataframe tbody tr th {\n",
       "        vertical-align: top;\n",
       "    }\n",
       "\n",
       "    .dataframe thead th {\n",
       "        text-align: right;\n",
       "    }\n",
       "</style>\n",
       "<table border=\"1\" class=\"dataframe\">\n",
       "  <thead>\n",
       "    <tr style=\"text-align: right;\">\n",
       "      <th></th>\n",
       "      <th>Partial. Eff.: beta1</th>\n",
       "    </tr>\n",
       "  </thead>\n",
       "  <tbody>\n",
       "    <tr>\n",
       "      <th>xi=0 &gt; xi=1</th>\n",
       "      <td>0.1747</td>\n",
       "    </tr>\n",
       "    <tr>\n",
       "      <th>xi=1 &gt; xi=2</th>\n",
       "      <td>0.0357</td>\n",
       "    </tr>\n",
       "  </tbody>\n",
       "</table>\n",
       "</div>"
      ],
      "text/plain": [
       "             Partial. Eff.: beta1\n",
       "xi=0 > xi=1                0.1747\n",
       "xi=1 > xi=2                0.0357"
      ]
     },
     "execution_count": 169,
     "metadata": {},
     "output_type": "execute_result"
    }
   ],
   "source": [
    "# partial effects of xi from 0 to 1 and 1 to 2\n",
    "k=1\n",
    "# create arrays of x where xi is set 0,1 and 2\n",
    "x_pe0 = np.array([1,0])\n",
    "x_pe1 = np.array([1,1])\n",
    "x_pe2 = np.array([1,2])\n",
    "\n",
    "# calculate the cauchy.cdf for xi = t, and subtract xi = t-1, t={1,2}\n",
    "#pe_0 = binary.G(x_pe2@theta_cross) - binary.G(x_pe0@theta_cross)\n",
    "pe1 = binary.G(x_pe1@theta_cross) - binary.G(x_pe0@theta_cross)\n",
    "pe2 = binary.G(x_pe2@theta_cross) - binary.G(x_pe1@theta_cross) \n",
    "\n",
    "# print results \n",
    "pd.DataFrame([pe1,\n",
    "              pe2],\n",
    "              index=['xi=0 > xi=1', 'xi=1 > xi=2'], columns=[f'Partial. Eff.: {x_lab[k]}']).round(4)"
   ]
  },
  {
   "cell_type": "code",
   "execution_count": 170,
   "metadata": {},
   "outputs": [
    {
     "name": "stdout",
     "output_type": "stream",
     "text": [
      "The sample average i = [1.    1.002]\n"
     ]
    },
    {
     "data": {
      "text/html": [
       "<div>\n",
       "<style scoped>\n",
       "    .dataframe tbody tr th:only-of-type {\n",
       "        vertical-align: middle;\n",
       "    }\n",
       "\n",
       "    .dataframe tbody tr th {\n",
       "        vertical-align: top;\n",
       "    }\n",
       "\n",
       "    .dataframe thead th {\n",
       "        text-align: right;\n",
       "    }\n",
       "</style>\n",
       "<table border=\"1\" class=\"dataframe\">\n",
       "  <thead>\n",
       "    <tr style=\"text-align: right;\">\n",
       "      <th></th>\n",
       "      <th>Partial. Eff.: beta1</th>\n",
       "    </tr>\n",
       "  </thead>\n",
       "  <tbody>\n",
       "    <tr>\n",
       "      <th>APE</th>\n",
       "      <td>0.1805</td>\n",
       "    </tr>\n",
       "    <tr>\n",
       "      <th>PEA</th>\n",
       "      <td>0.0604</td>\n",
       "    </tr>\n",
       "  </tbody>\n",
       "</table>\n",
       "</div>"
      ],
      "text/plain": [
       "     Partial. Eff.: beta1\n",
       "APE                0.1805\n",
       "PEA                0.0604"
      ]
     },
     "execution_count": 170,
     "metadata": {},
     "output_type": "execute_result"
    }
   ],
   "source": [
    "# get both average partial effect and partial effect at the average(continous effects not used)\n",
    "\n",
    "x_mean = np.mean(x,axis=0)\n",
    "print(f'The sample average i = {x_mean}')\n",
    "\n",
    "ape = np.mean(cauchy.pdf(x@theta_cross)*theta_cross[1])\n",
    "pea = cauchy.pdf(x_mean@theta_cross)*theta_cross[1]\n",
    "\n",
    "pd.DataFrame([ape, \n",
    "              pea],\n",
    "              index=['APE', 'PEA'], columns=[f'Partial. Eff.: {x_lab[k]}']).round(4)"
   ]
  },
  {
   "cell_type": "markdown",
   "metadata": {},
   "source": [
    "### Q6"
   ]
  },
  {
   "cell_type": "code",
   "execution_count": 171,
   "metadata": {},
   "outputs": [
    {
     "data": {
      "text/html": [
       "<div>\n",
       "<style scoped>\n",
       "    .dataframe tbody tr th:only-of-type {\n",
       "        vertical-align: middle;\n",
       "    }\n",
       "\n",
       "    .dataframe tbody tr th {\n",
       "        vertical-align: top;\n",
       "    }\n",
       "\n",
       "    .dataframe thead th {\n",
       "        text-align: right;\n",
       "    }\n",
       "</style>\n",
       "<table border=\"1\" class=\"dataframe\">\n",
       "  <thead>\n",
       "    <tr style=\"text-align: right;\">\n",
       "      <th></th>\n",
       "      <th>Partial Effect</th>\n",
       "      <th>s.e.</th>\n",
       "      <th>t</th>\n",
       "    </tr>\n",
       "    <tr>\n",
       "      <th>Var</th>\n",
       "      <th></th>\n",
       "      <th></th>\n",
       "      <th></th>\n",
       "    </tr>\n",
       "  </thead>\n",
       "  <tbody>\n",
       "    <tr>\n",
       "      <th>xi=0 &gt; xi=1</th>\n",
       "      <td>0.1747</td>\n",
       "      <td>0.0262</td>\n",
       "      <td>6.6798</td>\n",
       "    </tr>\n",
       "    <tr>\n",
       "      <th>xi=1 &gt; xi=2</th>\n",
       "      <td>0.0357</td>\n",
       "      <td>0.0038</td>\n",
       "      <td>9.4143</td>\n",
       "    </tr>\n",
       "  </tbody>\n",
       "</table>\n",
       "</div>"
      ],
      "text/plain": [
       "             Partial Effect    s.e.       t\n",
       "Var                                        \n",
       "xi=0 > xi=1          0.1747  0.0262  6.6798\n",
       "xi=1 > xi=2          0.0357  0.0038  9.4143"
      ]
     },
     "execution_count": 171,
     "metadata": {},
     "output_type": "execute_result"
    }
   ],
   "source": [
    "# compute gradients\n",
    "grad_1= cauchy.pdf(x_pe1@theta_cross)*x_pe1 - cauchy.pdf(x_pe0@theta_cross)*x_pe0\n",
    "grad_2= cauchy.pdf(x_pe2@theta_cross)*x_pe2 - cauchy.pdf(x_pe1@theta_cross)*x_pe1\n",
    "\n",
    "def get_se(grad, cov):\n",
    "    cov_pe = grad@cov@grad.T\n",
    "    return np.sqrt(cov_pe)\n",
    "\n",
    "# compute standard errors\n",
    "se1 = get_se(grad_1, cov_cross)\n",
    "se2 = get_se(grad_2, cov_cross)\n",
    "\n",
    "# print results\n",
    "\n",
    "pe_dict = {'Partial Effect': np.vstack([pe1, pe2])[:,0],\n",
    "           's.e.':            np.vstack([se1, se2])[:,0]}\n",
    "tab = pd.DataFrame(pe_dict,index=['xi=0 > xi=1', 'xi=1 > xi=2'])\n",
    "tab['t'] = tab['Partial Effect'] / tab['s.e.']\n",
    "tab.index.name = 'Var'\n",
    "tab.round(4)"
   ]
  },
  {
   "cell_type": "markdown",
   "metadata": {},
   "source": [
    "### Q7"
   ]
  },
  {
   "cell_type": "code",
   "execution_count": 106,
   "metadata": {},
   "outputs": [
    {
     "name": "stdout",
     "output_type": "stream",
     "text": [
      "48.62767169915623 92.58994109313278\n"
     ]
    }
   ],
   "source": [
    "#compute wald statistics\n",
    "sqrtwald1 = ((pe1-0)/se1)\n",
    "sqrtwald2 = ((pe2-0)/se2)\n",
    "wald1 = sqrtwald1**2\n",
    "wald2 = sqrtwald2**2\n",
    "\n",
    "print(wald1, wald2)"
   ]
  },
  {
   "cell_type": "code",
   "execution_count": 107,
   "metadata": {},
   "outputs": [
    {
     "name": "stdout",
     "output_type": "stream",
     "text": [
      "3.0947168945532776e-12 6.433358735771918e-22\n"
     ]
    }
   ],
   "source": [
    "#p-values\n",
    "print(chi2.sf(wald1.item(), 1),chi2.sf(wald2.item(), 1))"
   ]
  },
  {
   "cell_type": "markdown",
   "metadata": {},
   "source": [
    "# Panel Data"
   ]
  },
  {
   "cell_type": "markdown",
   "metadata": {},
   "source": [
    "### Q9-Q10\n",
    "[Contents](#Contents)"
   ]
  },
  {
   "cell_type": "code",
   "execution_count": 172,
   "metadata": {},
   "outputs": [],
   "source": [
    "N = 1000\n",
    "T = 10\n",
    "K = 2 # there are two columns in x: a constant (x0) and x1\n",
    "pandat = pd.read_csv('panel.csv')\n",
    "y = pandat['y'].values.reshape((N,T))\n",
    "x = pandat[['x0', 'x1']].values.reshape((N,T,K))"
   ]
  },
  {
   "cell_type": "markdown",
   "metadata": {
    "tags": []
   },
   "source": [
    "### Q9"
   ]
  },
  {
   "cell_type": "code",
   "execution_count": 177,
   "metadata": {},
   "outputs": [
    {
     "name": "stdout",
     "output_type": "stream",
     "text": [
      "Optimization terminated successfully.\n",
      "         Current function value: 9.150684\n",
      "         Iterations: 10\n",
      "         Function evaluations: 44\n",
      "         Gradient evaluations: 11\n"
     ]
    }
   ],
   "source": [
    "# compute results using SMLE and quadrature methods\n",
    "\n",
    "R = 24 # no. quadrature points \n",
    "theta0 = np.array([1.,1.,1.])\n",
    "q = lambda theta,y,x: binary.q_quad(theta,y,x,R)\n",
    "panel_res = est.estimate(q, theta0, y, x,cov_type='Hessian',method='BFGS')\n",
    "\n",
    "# save\n",
    "\n",
    "theta_panel = panel_res['theta']\n",
    "cov_panel= panel_res['cov']"
   ]
  },
  {
   "cell_type": "code",
   "execution_count": 178,
   "metadata": {},
   "outputs": [
    {
     "name": "stdout",
     "output_type": "stream",
     "text": [
      "Optimizer succeded after 10 iter. (44 func. evals.). Final criterion:    9.151.\n",
      "binary, y = y\n"
     ]
    },
    {
     "data": {
      "text/html": [
       "<div>\n",
       "<style scoped>\n",
       "    .dataframe tbody tr th:only-of-type {\n",
       "        vertical-align: middle;\n",
       "    }\n",
       "\n",
       "    .dataframe tbody tr th {\n",
       "        vertical-align: top;\n",
       "    }\n",
       "\n",
       "    .dataframe thead th {\n",
       "        text-align: right;\n",
       "    }\n",
       "</style>\n",
       "<table border=\"1\" class=\"dataframe\">\n",
       "  <thead>\n",
       "    <tr style=\"text-align: right;\">\n",
       "      <th></th>\n",
       "      <th>theta</th>\n",
       "      <th>se</th>\n",
       "      <th>t</th>\n",
       "    </tr>\n",
       "  </thead>\n",
       "  <tbody>\n",
       "    <tr>\n",
       "      <th>beta0</th>\n",
       "      <td>0.6571</td>\n",
       "      <td>0.0414</td>\n",
       "      <td>15.8908</td>\n",
       "    </tr>\n",
       "    <tr>\n",
       "      <th>beta1</th>\n",
       "      <td>0.5296</td>\n",
       "      <td>0.0517</td>\n",
       "      <td>10.2357</td>\n",
       "    </tr>\n",
       "    <tr>\n",
       "      <th>sigma_c</th>\n",
       "      <td>0.7252</td>\n",
       "      <td>0.0425</td>\n",
       "      <td>17.0538</td>\n",
       "    </tr>\n",
       "  </tbody>\n",
       "</table>\n",
       "</div>"
      ],
      "text/plain": [
       "          theta      se        t\n",
       "beta0    0.6571  0.0414  15.8908\n",
       "beta1    0.5296  0.0517  10.2357\n",
       "sigma_c  0.7252  0.0425  17.0538"
      ]
     },
     "execution_count": 178,
     "metadata": {},
     "output_type": "execute_result"
    }
   ],
   "source": [
    "# print results\n",
    "\n",
    "x_lab = ['beta0', 'beta1', 'sigma_c']\n",
    "panel_tab = est.print_table(x_lab, panel_res, title=f'binary, y = {y_lab}')\n",
    "panel_tab"
   ]
  },
  {
   "cell_type": "code",
   "execution_count": 179,
   "metadata": {},
   "outputs": [
    {
     "name": "stdout",
     "output_type": "stream",
     "text": [
      "\\begin{tabular}{rrr}\n",
      "\\toprule\n",
      " theta &     se &       t \\\\\n",
      "\\midrule\n",
      "0.6571 & 0.0414 & 15.8908 \\\\\n",
      "0.5296 & 0.0517 & 10.2357 \\\\\n",
      "0.7252 & 0.0425 & 17.0538 \\\\\n",
      "\\bottomrule\n",
      "\\end{tabular}\n",
      "\n"
     ]
    },
    {
     "name": "stderr",
     "output_type": "stream",
     "text": [
      "C:\\Users\\matia\\AppData\\Local\\Temp\\ipykernel_17416\\156910436.py:2: FutureWarning: In future versions `DataFrame.to_latex` is expected to utilise the base implementation of `Styler.to_latex` for formatting and rendering. The arguments signature may therefore change. It is recommended instead to use `DataFrame.style.to_latex` which also contains additional functionality.\n",
      "  print(panel_tab.to_latex(index=False))\n"
     ]
    }
   ],
   "source": [
    "# print to latex code\n",
    "print(panel_tab.to_latex(index=False))"
   ]
  },
  {
   "cell_type": "code",
   "execution_count": 113,
   "metadata": {},
   "outputs": [
    {
     "data": {
      "text/plain": [
       "0.6951419067658219"
      ]
     },
     "execution_count": 113,
     "metadata": {},
     "output_type": "execute_result"
    }
   ],
   "source": [
    "# mean probability of succes\n",
    "# approximately this but dependent on draws. If draws of C were higher it would be more accurate\n",
    "binary.G(x @ panel_res['theta'][:-1]+(panel_res['theta'][-1]*np.random.normal(size=1000)).reshape(-1,1)).mean()"
   ]
  },
  {
   "cell_type": "code",
   "execution_count": 180,
   "metadata": {},
   "outputs": [
    {
     "data": {
      "text/plain": [
       "0.7303641630400132"
      ]
     },
     "execution_count": 180,
     "metadata": {},
     "output_type": "execute_result"
    }
   ],
   "source": [
    "# with c=0\n",
    "binary.G(x @ panel_res['theta'][:-1]).mean()"
   ]
  },
  {
   "cell_type": "code",
   "execution_count": 115,
   "metadata": {},
   "outputs": [
    {
     "name": "stdout",
     "output_type": "stream",
     "text": [
      "Optimization terminated successfully.\n",
      "         Current function value: 5.972229\n",
      "         Iterations: 9\n",
      "         Function evaluations: 40\n",
      "         Gradient evaluations: 10\n",
      "Optimizer succeded after 10 iter. (44 func. evals.). Final criterion:    9.151.\n",
      "binary, y = y\n"
     ]
    },
    {
     "data": {
      "text/html": [
       "<div>\n",
       "<style scoped>\n",
       "    .dataframe tbody tr th:only-of-type {\n",
       "        vertical-align: middle;\n",
       "    }\n",
       "\n",
       "    .dataframe tbody tr th {\n",
       "        vertical-align: top;\n",
       "    }\n",
       "\n",
       "    .dataframe thead th {\n",
       "        text-align: right;\n",
       "    }\n",
       "</style>\n",
       "<table border=\"1\" class=\"dataframe\">\n",
       "  <thead>\n",
       "    <tr style=\"text-align: right;\">\n",
       "      <th></th>\n",
       "      <th>theta</th>\n",
       "      <th>se</th>\n",
       "      <th>t</th>\n",
       "    </tr>\n",
       "  </thead>\n",
       "  <tbody>\n",
       "    <tr>\n",
       "      <th>beta0</th>\n",
       "      <td>0.6571</td>\n",
       "      <td>0.0404</td>\n",
       "      <td>16.2637</td>\n",
       "    </tr>\n",
       "    <tr>\n",
       "      <th>beta1</th>\n",
       "      <td>0.5296</td>\n",
       "      <td>0.0501</td>\n",
       "      <td>10.5801</td>\n",
       "    </tr>\n",
       "    <tr>\n",
       "      <th>sigma_c</th>\n",
       "      <td>0.7252</td>\n",
       "      <td>0.0438</td>\n",
       "      <td>16.5551</td>\n",
       "    </tr>\n",
       "  </tbody>\n",
       "</table>\n",
       "</div>"
      ],
      "text/plain": [
       "          theta      se        t\n",
       "beta0    0.6571  0.0404  16.2637\n",
       "beta1    0.5296  0.0501  10.5801\n",
       "sigma_c  0.7252  0.0438  16.5551"
      ]
     },
     "execution_count": 115,
     "metadata": {},
     "output_type": "execute_result"
    }
   ],
   "source": [
    "# with simulation\n",
    "\n",
    "R = 100\n",
    "theta0 = np.array([1.,1.,1.])\n",
    "q = lambda theta,y,x : binary.q_sim(theta, y, x, R=R, seed=2023) # seed=None: use equiprobably grid points on (0;1)\n",
    "res = est.estimate(q, theta0, y, x)\n",
    "# print results\n",
    "\n",
    "x_lab = ['beta0', 'beta1', 'sigma_c']\n",
    "panel_tab = est.print_table(x_lab, panel_res, title=f'binary, y = {y_lab}')\n",
    "panel_tab"
   ]
  },
  {
   "cell_type": "markdown",
   "metadata": {},
   "source": [
    "### Q10"
   ]
  },
  {
   "cell_type": "code",
   "execution_count": 144,
   "metadata": {},
   "outputs": [
    {
     "data": {
      "text/html": [
       "<div>\n",
       "<style scoped>\n",
       "    .dataframe tbody tr th:only-of-type {\n",
       "        vertical-align: middle;\n",
       "    }\n",
       "\n",
       "    .dataframe tbody tr th {\n",
       "        vertical-align: top;\n",
       "    }\n",
       "\n",
       "    .dataframe thead th {\n",
       "        text-align: right;\n",
       "    }\n",
       "</style>\n",
       "<table border=\"1\" class=\"dataframe\">\n",
       "  <thead>\n",
       "    <tr style=\"text-align: right;\">\n",
       "      <th></th>\n",
       "      <th>Partial. Eff.: beta1</th>\n",
       "    </tr>\n",
       "  </thead>\n",
       "  <tbody>\n",
       "    <tr>\n",
       "      <th>c=0</th>\n",
       "      <td>0.0921</td>\n",
       "    </tr>\n",
       "    <tr>\n",
       "      <th>E_c[G]</th>\n",
       "      <td>0.1706</td>\n",
       "    </tr>\n",
       "  </tbody>\n",
       "</table>\n",
       "</div>"
      ],
      "text/plain": [
       "        Partial. Eff.: beta1\n",
       "c=0                   0.0921\n",
       "E_c[G]                0.1706"
      ]
     },
     "execution_count": 144,
     "metadata": {},
     "output_type": "execute_result"
    }
   ],
   "source": [
    "# partial effects of xi from 0 to 1 and 1 to 2\n",
    "k=1\n",
    "\n",
    "# create arrays of x where xi is set 0 and 1\n",
    "x_pe0_c0 = np.array([1,0,0])\n",
    "x_pe1_c0 = np.array([1,1,0])\n",
    "\n",
    "# set seed\n",
    "np.random.seed(2023)\n",
    "\n",
    "#create quadrature nodes and weights and array\n",
    "q,w = np.polynomial.hermite.hermgauss(24)\n",
    "\n",
    "ones = np.ones(24)\n",
    "zeros = np.zeros(24)\n",
    "x_pe0_c_temp=np.vstack((ones,zeros))\n",
    "x_pe0_c = np.vstack((x_pe0_c_temp,q))\n",
    "x_pe1_c_temp=np.vstack((ones,ones))\n",
    "x_pe1_c = np.vstack((x_pe1_c_temp,q))\n",
    "\n",
    "# make theta two dimensional\n",
    "theta_pe = theta_panel.reshape(-1,1).T\n",
    "\n",
    "\n",
    "# calculate the cauchy.cdf for xi = t, and subtract xi = t-1, t={1,2}\n",
    "pe_c0 = binary.G(x_pe1_c0@theta_panel) - binary.G(x_pe0_c0@theta_panel)\n",
    "pe_c = np.sum(w*binary.G(theta_pe@x_pe1_c)) - np.sum(w*binary.G(theta_pe@x_pe0_c))\n",
    "\n",
    "# print results \n",
    "pd.DataFrame([pe_c0,\n",
    "              pe_c],\n",
    "              index=['c=0', 'E_c[G]'], columns=[f'Partial. Eff.: {x_lab[k]}']).round(4)\n"
   ]
  },
  {
   "cell_type": "code",
   "execution_count": 134,
   "metadata": {
    "tags": []
   },
   "outputs": [
    {
     "data": {
      "text/plain": [
       "(3, 24)"
      ]
     },
     "execution_count": 134,
     "metadata": {},
     "output_type": "execute_result"
    }
   ],
   "source": [
    "np.shape(x_pe1_c)"
   ]
  },
  {
   "cell_type": "code",
   "execution_count": 145,
   "metadata": {
    "tags": []
   },
   "outputs": [
    {
     "data": {
      "text/html": [
       "<div>\n",
       "<style scoped>\n",
       "    .dataframe tbody tr th:only-of-type {\n",
       "        vertical-align: middle;\n",
       "    }\n",
       "\n",
       "    .dataframe tbody tr th {\n",
       "        vertical-align: top;\n",
       "    }\n",
       "\n",
       "    .dataframe thead th {\n",
       "        text-align: right;\n",
       "    }\n",
       "</style>\n",
       "<table border=\"1\" class=\"dataframe\">\n",
       "  <thead>\n",
       "    <tr style=\"text-align: right;\">\n",
       "      <th></th>\n",
       "      <th>Partial Effect</th>\n",
       "      <th>s.e.</th>\n",
       "      <th>t</th>\n",
       "    </tr>\n",
       "    <tr>\n",
       "      <th>Var</th>\n",
       "      <th></th>\n",
       "      <th></th>\n",
       "      <th></th>\n",
       "    </tr>\n",
       "  </thead>\n",
       "  <tbody>\n",
       "    <tr>\n",
       "      <th>c=0</th>\n",
       "      <td>0.0921</td>\n",
       "      <td>0.0085</td>\n",
       "      <td>10.7774</td>\n",
       "    </tr>\n",
       "    <tr>\n",
       "      <th>E_c[G]</th>\n",
       "      <td>0.1706</td>\n",
       "      <td>0.0154</td>\n",
       "      <td>11.0513</td>\n",
       "    </tr>\n",
       "  </tbody>\n",
       "</table>\n",
       "</div>"
      ],
      "text/plain": [
       "        Partial Effect    s.e.        t\n",
       "Var                                    \n",
       "c=0             0.0921  0.0085  10.7774\n",
       "E_c[G]          0.1706  0.0154  11.0513"
      ]
     },
     "execution_count": 145,
     "metadata": {},
     "output_type": "execute_result"
    }
   ],
   "source": [
    "# compute gradients\n",
    "grad_1= cauchy.pdf(x_pe1_c0@theta_panel)*x_pe1_c0 - cauchy.pdf(x_pe0_c0@theta_panel)*x_pe0_c0\n",
    "grad_2= np.sum(w*cauchy.pdf(theta_pe@x_pe1_c)*x_pe1_c,axis=1) - np.sum(w*cauchy.pdf(theta_pe@x_pe0_c)*x_pe0_c,axis=1)\n",
    "\n",
    "# compute standard errors\n",
    "se1 = get_se(grad_1, cov_panel)\n",
    "se2 = get_se(grad_2, cov_panel)\n",
    "\n",
    "# print results\n",
    "\n",
    "pe_dict = {'Partial Effect': np.vstack([pe_c0, pe_c])[:,0],\n",
    "           's.e.':            np.vstack([se1, se2])[:,0]}\n",
    "tab = pd.DataFrame(pe_dict,index=['c=0', 'E_c[G]'])\n",
    "tab['t'] = tab['Partial Effect'] / tab['s.e.']\n",
    "tab.index.name = 'Var'\n",
    "tab.round(4)"
   ]
  },
  {
   "cell_type": "code",
   "execution_count": 181,
   "metadata": {},
   "outputs": [
    {
     "name": "stdout",
     "output_type": "stream",
     "text": [
      "\\begin{tabular}{rrr}\n",
      "\\toprule\n",
      " Partial Effect &   s.e. &      t \\\\\n",
      "         0.1747 & 0.0262 & 6.6798 \\\\\n",
      "\\midrule\n",
      "         0.0357 & 0.0038 & 9.4143 \\\\\n",
      "\\bottomrule\n",
      "\\end{tabular}\n",
      "\n"
     ]
    },
    {
     "name": "stderr",
     "output_type": "stream",
     "text": [
      "C:\\Users\\matia\\AppData\\Local\\Temp\\ipykernel_17416\\691299957.py:2: FutureWarning: In future versions `DataFrame.to_latex` is expected to utilise the base implementation of `Styler.to_latex` for formatting and rendering. The arguments signature may therefore change. It is recommended instead to use `DataFrame.style.to_latex` which also contains additional functionality.\n",
      "  print(tab.round(4).to_latex(index=False))\n"
     ]
    }
   ],
   "source": [
    "# print to latex code\n",
    "print(tab.round(4).to_latex(index=False))"
   ]
  }
 ],
 "metadata": {
  "kernelspec": {
   "display_name": "Python 3 (ipykernel)",
   "language": "python",
   "name": "python3"
  },
  "language_info": {
   "codemirror_mode": {
    "name": "ipython",
    "version": 3
   },
   "file_extension": ".py",
   "mimetype": "text/x-python",
   "name": "python",
   "nbconvert_exporter": "python",
   "pygments_lexer": "ipython3",
   "version": "3.9.13"
  },
  "toc-autonumbering": false,
  "toc-showmarkdowntxt": false,
  "toc-showtags": true,
  "vscode": {
   "interpreter": {
    "hash": "2f28796849cc7d0dfb7168fb91405d73a8cccecd280e63fee6edce8a728c9dcc"
   }
  }
 },
 "nbformat": 4,
 "nbformat_minor": 4
}
