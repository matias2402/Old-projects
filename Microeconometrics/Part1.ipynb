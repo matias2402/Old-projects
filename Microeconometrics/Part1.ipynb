{
 "cells": [
  {
   "cell_type": "markdown",
   "metadata": {},
   "source": [
    "# Advanced Microeconometrics EXAM 2022:\n",
    "## Part I (Project II: Economic Growth)\n",
    "*9:00 am January 14th to 9:00 am January 16th, 2023*\n",
    "\n",
    "**Hall & Kjølbye**"
   ]
  },
  {
   "cell_type": "markdown",
   "metadata": {},
   "source": [
    "# Contents"
   ]
  },
  {
   "cell_type": "markdown",
   "metadata": {},
   "source": [
    "1. [Data](#Data)\n",
    "2. [Penalty level](#Penalty-level-and-residuals)\n",
    "3. [Estimation](#Estimation)\n",
    "3. [Results](#Results)"
   ]
  },
  {
   "cell_type": "code",
   "execution_count": 1,
   "metadata": {},
   "outputs": [],
   "source": [
    "import pandas as pd \n",
    "import numpy as np \n",
    "import statsmodels.formula.api as smf\n",
    "import matplotlib.pyplot as plt\n",
    "from sklearn.linear_model import Lasso\n",
    "from scipy.stats import norm\n",
    "import tools"
   ]
  },
  {
   "cell_type": "markdown",
   "metadata": {},
   "source": [
    "## Read data "
   ]
  },
  {
   "cell_type": "code",
   "execution_count": 2,
   "metadata": {},
   "outputs": [
    {
     "name": "stdout",
     "output_type": "stream",
     "text": [
      "The data contains 214 rows (countries) and 85 columns (variables).\n"
     ]
    }
   ],
   "source": [
    "dat = pd.read_csv('growth.csv')\n",
    "lbldf = pd.read_csv('labels.csv', index_col='variable')\n",
    "lbl_all = lbldf.label.to_dict() # as a dictionary\n",
    "print(f'The data contains {dat.shape[0]} rows (countries) and {dat.shape[1]} columns (variables).')"
   ]
  },
  {
   "cell_type": "markdown",
   "metadata": {},
   "source": [
    "# Collections of variables\n",
    "\n",
    "In order to make the analysis simpler, it may be convenient to collect variables in sets that belong together naturally. "
   ]
  },
  {
   "cell_type": "code",
   "execution_count": 3,
   "metadata": {},
   "outputs": [],
   "source": [
    "# all available variables\n",
    "vv_institutions = ['marketref', 'dem', 'demCGV', 'demBMR', 'demreg', 'currentinst'] \n",
    "vv_geography = [\n",
    "        'tropicar','distr', 'distcr', 'distc','suitavg','temp', 'suitgini', 'elevavg', 'elevstd',\n",
    "        'kgatr', 'precip', 'area', 'abslat', 'cenlong', 'area_ar', 'rough','landlock', \n",
    "        'africa',  'asia', 'oceania', 'americas' # 'europe' is the reference\n",
    "]\n",
    "vv_geneticdiversity = ['pdiv', 'pdiv_aa', 'pdivhmi', 'pdivhmi_aa']\n",
    "vv_historical = ['pd1000', 'pd1500', 'pop1000', 'pop1500', 'ln_yst'] # these are often missing: ['pd1', 'pop1']\n",
    "vv_religion = ['pprotest', 'pcatholic', 'pmuslim']\n",
    "vv_danger = ['yellow', 'malfal',  'uvdamage']\n",
    "vv_resources = ['oilres', 'goldm', 'iron', 'silv', 'zinc']\n",
    "vv_educ = ['ls_bl', 'lh_bl'] # secondary, tertiary: we exclude 'lp_bl' (primary) to avoid rank failure \n",
    "\n",
    "vv_all = {'institutions': vv_institutions, \n",
    "          'geography': vv_geography, \n",
    "          'geneticdiversity': vv_geneticdiversity,\n",
    "          'historical': vv_historical,\n",
    "          'religion': vv_religion,\n",
    "          'danger':vv_danger, \n",
    "          'resources':vv_resources,\n",
    "          'education':vv_educ\n",
    "         }\n",
    "list_of_lists = vv_all.values()\n",
    "vv_all['all'] = [v for sublist in list_of_lists for v in sublist]\n"
   ]
  },
  {
   "cell_type": "code",
   "execution_count": 4,
   "metadata": {},
   "outputs": [],
   "source": [
    "# convenient to keep a column of ones in the dataset\n",
    "dat['constant'] = np.ones((dat.shape[0],))"
   ]
  },
  {
   "cell_type": "markdown",
   "metadata": {},
   "source": [
    "# Data"
   ]
  },
  {
   "cell_type": "code",
   "execution_count": 5,
   "metadata": {},
   "outputs": [],
   "source": [
    "# Create new selection variables\n",
    "vs = vv_all['education'] + vv_all['religion'] +\\\n",
    "['marketref', 'dem', 'demreg','oilres','currentinst','africa',  'asia', \n",
    " 'oceania', 'americas', 'landlock', 'area_ar', 'distc', 'precip', 'temp']\n",
    "zs = vs + ['pop_growth', 'investment_rate']\n",
    "xs = ['lgdp_initial', 'pop_growth', 'investment_rate'] + vs\n",
    "\n",
    "# avoiding missings\n",
    "all_vars = ['gdp_growth'] + xs\n",
    "I = dat[all_vars].notnull().all(1)\n",
    "\n",
    "# extract X\n",
    "X_sel = dat.loc[I, xs]\n",
    "\n",
    "# extract data\n",
    "# g is y-variable\n",
    "g = dat.loc[I,'gdp_growth'].values.reshape((-1)) * 100. #easier to read output when growth is in 100%\n",
    "z_sel = X_sel.drop(['lgdp_initial'],axis=1).values #controls\n",
    "y = X_sel.lgdp_initial.values #beta\n",
    "i_sel = X_sel.columns.get_loc('lgdp_initial')\n",
    "\n",
    "# make numpy arrays\n",
    "X = X_sel.values\n",
    "\n",
    "# standardize \n",
    "z_stan = tools.standardize(z_sel)\n",
    "x_stan = tools.standardize(X_sel)\n",
    "y_stan = tools.standardize(y)"
   ]
  },
  {
   "cell_type": "markdown",
   "metadata": {},
   "source": [
    "# Post Double Lasso"
   ]
  },
  {
   "cell_type": "markdown",
   "metadata": {
    "tags": []
   },
   "source": [
    "## Penalty level and residuals"
   ]
  },
  {
   "cell_type": "code",
   "execution_count": 6,
   "metadata": {},
   "outputs": [],
   "source": [
    "# compute penalty terms\n",
    "lambda_BRTyz = tools.BRT(z_stan,y)\n",
    "lambda_BCCHyz = tools.BCCH(z_stan,y)\n",
    "\n",
    "# lasso on intial gdp\n",
    "fit_BRTyz=Lasso(alpha=lambda_BRTyz).fit(z_stan,y)\n",
    "fit_BCCHyz=Lasso(alpha=lambda_BCCHyz).fit(z_stan,y)\n",
    "\n",
    "# save residuals\n",
    "resyz_BRT= y - fit_BRTyz.predict(z_stan)\n",
    "resyz_BCCH = y - fit_BCCHyz.predict(z_stan)"
   ]
  },
  {
   "cell_type": "code",
   "execution_count": 7,
   "metadata": {},
   "outputs": [],
   "source": [
    "# compute penalty terms\n",
    "lambda_BRTgx = tools.BRT(x_stan,g)\n",
    "lambda_BCCHgx = tools.BCCH(x_stan,g)\n",
    "\n",
    "# lasso on gdp growth\n",
    "fit_BRTgx = Lasso(alpha=lambda_BRTgx).fit(x_stan,g) \n",
    "fit_BCCHgx = Lasso(alpha=lambda_BCCHgx).fit(x_stan,g)\n",
    "coefs_BRT = fit_BRTgx.coef_\n",
    "coefs_BCCH = fit_BCCHgx.coef_\n",
    "\n",
    "# save residuals\n",
    "resgxz_BRT = g-fit_BRTgx.predict(x_stan) + y_stan*coefs_BRT[0]\n",
    "resgxz_BCCH = g-fit_BCCHgx.predict(x_stan) + y_stan*coefs_BCCH[0]"
   ]
  },
  {
   "cell_type": "markdown",
   "metadata": {},
   "source": [
    "### Estimation"
   ]
  },
  {
   "cell_type": "code",
   "execution_count": 8,
   "metadata": {},
   "outputs": [],
   "source": [
    "# save residuals\n",
    "resgzz_BRT = g - fit_BRTgx.predict(x_stan)\n",
    "resgzz_BCCH = g - fit_BCCHgx.predict(x_stan)\n",
    "\n",
    "# estimate PDL\n",
    "PDL_BRT = tools.PDL_ols(resyz_BRT,resgxz_BRT,y)\n",
    "PDL_BCCH = tools.PDL_ols(resyz_BCCH, resgxz_BCCH,y)\n",
    "\n",
    "# SE and CI\n",
    "se_PDL_BRT, CI_PDL_BRT = tools.PDL_CI(resyz_BRT, resgzz_BRT,PDL_BRT)\n",
    "se_PDL_BCCH, CI_PDL_BCCH = tools.PDL_CI(resyz_BCCH, resgzz_BCCH,PDL_BCCH)"
   ]
  },
  {
   "cell_type": "code",
   "execution_count": 9,
   "metadata": {},
   "outputs": [
    {
     "data": {
      "text/plain": [
       "(-0.67, 0.15)"
      ]
     },
     "execution_count": 9,
     "metadata": {},
     "output_type": "execute_result"
    }
   ],
   "source": [
    "CI_PDL_BRT"
   ]
  },
  {
   "cell_type": "code",
   "execution_count": 10,
   "metadata": {},
   "outputs": [
    {
     "name": "stdout",
     "output_type": "stream",
     "text": [
      "First step controls ['ls_bl', 'pprotest', 'pcatholic', 'demreg', 'asia', 'investment_rate']\n",
      "Second step controls ['currentinst', 'asia']\n"
     ]
    }
   ],
   "source": [
    "# non zero coefficients BRT\n",
    "\n",
    "# First step\n",
    "idx_1 = np.where(fit_BRTyz.coef_ != 0)[0]\n",
    "idx_1 = np.ndarray.tolist(idx_1)\n",
    "print('First step controls',list(np.array(zs)[idx_1]))\n",
    "\n",
    "# Second step\n",
    "idx_0 = np.where(fit_BRTgx.coef_ != 0)[0]\n",
    "idx_0 = np.ndarray.tolist(idx_0)\n",
    "print('Second step controls',list(np.array(xs)[idx_0]))"
   ]
  },
  {
   "cell_type": "code",
   "execution_count": 11,
   "metadata": {},
   "outputs": [
    {
     "name": "stdout",
     "output_type": "stream",
     "text": [
      "First step controls ['pprotest']\n",
      "Second step controls []\n"
     ]
    }
   ],
   "source": [
    "# non zero coefficients BCCH\n",
    "\n",
    "# First step\n",
    "idx_1 = np.where(fit_BCCHyz.coef_ != 0)[0]\n",
    "idx_1 = np.ndarray.tolist(idx_1)\n",
    "print('First step controls',list(np.array(zs)[idx_1]))\n",
    "\n",
    "# Second step\n",
    "idx_0 = np.where(fit_BCCHgx.coef_ != 0)[0]\n",
    "idx_0 = np.ndarray.tolist(idx_0)\n",
    "print('Second step controls',list(np.array(xs)[idx_0]))"
   ]
  },
  {
   "cell_type": "markdown",
   "metadata": {},
   "source": [
    "# Results"
   ]
  },
  {
   "cell_type": "code",
   "execution_count": 12,
   "metadata": {},
   "outputs": [
    {
     "name": "stdout",
     "output_type": "stream",
     "text": [
      "                    (1)      (2)\n",
      "                    PDL      PDL\n",
      "$\\beta$         -0.2608  -0.1354\n",
      "se               1.7698   1.2494\n",
      "p                    21       21\n",
      "n                    71       71\n",
      "$\\lambda^{yz}$   0.5395   0.8464\n",
      "$\\lambda^{gx}$   0.5618   1.1539\n"
     ]
    }
   ],
   "source": [
    "estimates = np.array([PDL_BRT, PDL_BCCH]).round(4)\n",
    "label_over_column = ['(1)','(2)']\n",
    "label_column = np.array(['PDL', 'PDL'])\n",
    "label_row = ['' ,'$\\\\beta$', 'se', 'p','n','$\\lambda^{yz}$','$\\lambda^{gx}$']\n",
    "se = np.array([se_PDL_BRT,se_PDL_BCCH]).round(4)\n",
    "no_controls = np.array([len(zs), len(zs)])\n",
    "no_obs = np.array([len(y), len(y)])\n",
    "\n",
    "pens_yz = np.array([lambda_BRTyz.round(4), lambda_BCCHyz.round(4)])\n",
    "pens_gx = np.array([lambda_BRTgx.round(4), lambda_BCCHgx.round(4)])\n",
    "\n",
    "data = np.row_stack((label_column ,estimates, se, no_controls,no_obs, pens_yz, pens_gx))\n",
    "\n",
    "df = pd.DataFrame(data = data, index = label_row, columns = label_over_column)\n",
    "\n",
    "print(df)"
   ]
  }
 ],
 "metadata": {
  "kernelspec": {
   "display_name": "Python 3 (ipykernel)",
   "language": "python",
   "name": "python3"
  },
  "language_info": {
   "codemirror_mode": {
    "name": "ipython",
    "version": 3
   },
   "file_extension": ".py",
   "mimetype": "text/x-python",
   "name": "python",
   "nbconvert_exporter": "python",
   "pygments_lexer": "ipython3",
   "version": "3.9.13"
  }
 },
 "nbformat": 4,
 "nbformat_minor": 4
}
