{
 "cells": [
  {
   "cell_type": "markdown",
   "metadata": {},
   "source": [
    "# Dynamic programming\n",
    "\n",
    "## This notebook is for presenting the results for our exam - \"What Are The Effects of Sweden’s Pension System on Retirement Behaviour?\"\n",
    "\n",
    "Created by **Matias Bjørn Frydensberg Hall (PKT593)** and **Thomas Theodor Kjølbye (XTB358)**"
   ]
  },
  {
   "cell_type": "code",
   "execution_count": 3,
   "metadata": {},
   "outputs": [],
   "source": [
    "# magics: ensures that any changes to the modules loaded below will be re-loaded automatically\n",
    "%load_ext autoreload\n",
    "%autoreload 2\n",
    "\n",
    "# load general packages\n",
    "import math\n",
    "import time\n",
    "from scipy import interpolate\n",
    "from scipy import optimize\n",
    "\n",
    "import os\n",
    "import patsy                           # provides a syntax for specifying models  \n",
    "import statsmodels.api as sm           # provides statistical models like ols, gmm, anova, etc...\n",
    "import statsmodels.formula.api as smf  # provides a way to directly spec models from formulas\n",
    "import pandas as pd\n",
    "import numpy as np\n",
    "import matplotlib.pyplot as plt\n",
    "plt.style.use('seaborn-whitegrid')\n",
    "\n",
    "# load modules related to exam\n",
    "import ver5 as karl5\n",
    "import ver6 as karl6\n",
    "import estimate as est"
   ]
  },
  {
   "cell_type": "markdown",
   "metadata": {},
   "source": [
    "# Model 5 with all states except pension age"
   ]
  },
  {
   "cell_type": "markdown",
   "metadata": {},
   "source": [
    "## Estimation"
   ]
  },
  {
   "cell_type": "code",
   "execution_count": 29,
   "metadata": {
    "collapsed": true,
    "jupyter": {
     "outputs_hidden": true
    }
   },
   "outputs": [
    {
     "name": "stdout",
     "output_type": "stream",
     "text": [
      "0.3424    -2.0450    0.7610    65.4905        0.0070\n"
     ]
    },
    {
     "name": "stderr",
     "output_type": "stream",
     "text": [
      "C:\\Users\\matia\\Google Drive\\Skole\\Dynamic programming\\DynamicProgramming\\ver5.py:146: RuntimeWarning: overflow encountered in exp\n",
      "  ((np.exp((t-self.theta[3])/self.theta[4]))/(1+np.exp((t-self.theta[3])/self.theta[4])))\n",
      "C:\\Users\\matia\\Google Drive\\Skole\\Dynamic programming\\DynamicProgramming\\ver5.py:146: RuntimeWarning: invalid value encountered in double_scalars\n",
      "  ((np.exp((t-self.theta[3])/self.theta[4]))/(1+np.exp((t-self.theta[3])/self.theta[4])))\n"
     ]
    },
    {
     "name": "stdout",
     "output_type": "stream",
     "text": [
      "model solved in 4.1692070960998535 seconds\n",
      "-0.0685880318386716\n",
      "0.3424    -2.0450    0.7610    65.4905        0.0070\n",
      "model solved in 4.360118865966797 seconds\n",
      "-0.06858803176533611\n",
      "0.3424    -2.0450    0.7610    65.4905        0.0070\n",
      "model solved in 4.323120355606079 seconds\n",
      "-0.06858803184168351\n",
      "0.3424    -2.0450    0.7610    65.4905        0.0070\n",
      "model solved in 4.342399597167969 seconds\n",
      "-0.06858803184452117\n",
      "0.3424    -2.0450    0.7610    65.4905        0.0070\n",
      "model solved in 4.294703960418701 seconds\n",
      "-0.0685880318386716\n",
      "0.3424    -2.0450    0.7610    65.4905        0.0070\n",
      "model solved in 4.156529664993286 seconds\n",
      "-0.0685880318386716\n",
      "0.3473    -2.0452    0.7606    65.4905        0.0070\n",
      "model solved in 4.2685019969940186 seconds\n",
      "-0.0685675045973317\n",
      "0.3473    -2.0452    0.7606    65.4905        0.0070\n",
      "model solved in 4.152555227279663 seconds\n",
      "-0.06856750454715531\n",
      "0.3473    -2.0452    0.7606    65.4905        0.0070\n",
      "model solved in 4.324458360671997 seconds\n",
      "-0.06856750459922645\n",
      "0.3473    -2.0452    0.7606    65.4905        0.0070\n",
      "model solved in 4.5024144649505615 seconds\n",
      "-0.06856750459876705\n",
      "0.3473    -2.0452    0.7606    65.4905        0.0070\n",
      "model solved in 4.605462551116943 seconds\n",
      "-0.0685675045973317\n",
      "0.3473    -2.0452    0.7606    65.4905        0.0070\n",
      "model solved in 4.27410888671875 seconds\n",
      "-0.0685675045973317\n",
      "0.3579    -2.0456    0.7603    65.4905        0.0070\n",
      "model solved in 4.108607053756714 seconds\n",
      "-0.0685494509537015\n",
      "0.3579    -2.0456    0.7603    65.4905        0.0070\n",
      "model solved in 4.200185537338257 seconds\n",
      "-0.06854945095311411\n",
      "0.3579    -2.0456    0.7603    65.4905        0.0070\n",
      "model solved in 4.280072450637817 seconds\n",
      "-0.06854945095322175\n",
      "0.3579    -2.0456    0.7603    65.4905        0.0070\n",
      "model solved in 4.371812343597412 seconds\n",
      "-0.06854945094536229\n",
      "0.3579    -2.0456    0.7603    65.4905        0.0070\n",
      "model solved in 4.363536596298218 seconds\n",
      "-0.0685494509537015\n",
      "0.3579    -2.0456    0.7603    65.4905        0.0070\n",
      "model solved in 4.356045961380005 seconds\n",
      "-0.0685494509537015\n",
      "0.3581    -2.0456    0.7609    65.4905        0.0070\n",
      "model solved in 4.649378061294556 seconds\n",
      "-0.0685491339578794\n",
      "0.3581    -2.0456    0.7609    65.4905        0.0070\n",
      "model solved in 4.490274906158447 seconds\n",
      "-0.06854913395760646\n",
      "0.3581    -2.0456    0.7609    65.4905        0.0070\n",
      "model solved in 4.406788349151611 seconds\n",
      "-0.06854913395738588\n",
      "0.3581    -2.0456    0.7609    65.4905        0.0070\n",
      "model solved in 4.353492736816406 seconds\n",
      "-0.06854913394955824\n",
      "0.3581    -2.0456    0.7609    65.4905        0.0070\n",
      "model solved in 4.472219228744507 seconds\n",
      "-0.0685491339578794\n",
      "0.3581    -2.0456    0.7609    65.4905        0.0070\n",
      "model solved in 4.106892108917236 seconds\n",
      "-0.0685491339578794\n",
      "0.3589    -2.0455    0.7631    65.4905        0.0070\n",
      "model solved in 4.574819087982178 seconds\n",
      "-0.06854791129088629\n",
      "0.3589    -2.0455    0.7631    65.4905        0.0070\n",
      "model solved in 4.5637595653533936 seconds\n",
      "-0.06854791129186427\n",
      "0.3589    -2.0455    0.7631    65.4905        0.0070\n",
      "model solved in 4.51993465423584 seconds\n",
      "-0.0685479112903402\n",
      "0.3589    -2.0455    0.7631    65.4905        0.0070\n",
      "model solved in 4.405561923980713 seconds\n",
      "-0.06854791128264603\n",
      "0.3589    -2.0455    0.7631    65.4905        0.0070\n",
      "model solved in 4.477476358413696 seconds\n",
      "-0.06854791129088629\n",
      "0.3589    -2.0455    0.7631    65.4905        0.0070\n",
      "model solved in 4.478776931762695 seconds\n",
      "-0.06854791129088629\n",
      "0.3618    -2.0450    0.7720    65.4905        0.0070\n",
      "model solved in 4.7160964012146 seconds\n",
      "-0.06854374464074962\n",
      "0.3618    -2.0450    0.7720    65.4905        0.0070\n",
      "model solved in 4.565838098526001 seconds\n",
      "-0.06854374464665851\n",
      "0.3618    -2.0450    0.7720    65.4905        0.0070\n",
      "model solved in 4.333416700363159 seconds\n",
      "-0.06854374463999612\n",
      "0.3618    -2.0450    0.7720    65.4905        0.0070\n",
      "model solved in 4.7260072231292725 seconds\n",
      "-0.06854374463285072\n",
      "0.3618    -2.0450    0.7720    65.4905        0.0070\n",
      "model solved in 4.7767698764801025 seconds\n",
      "-0.06854374464074962\n",
      "0.3618    -2.0450    0.7720    65.4905        0.0070\n",
      "model solved in 4.486814260482788 seconds\n",
      "-0.06854374464074962\n",
      "0.3671    -2.0437    0.7976    65.4905        0.0070\n",
      "model solved in 4.552212476730347 seconds\n",
      "-0.06853560877486309\n",
      "0.3671    -2.0437    0.7976    65.4905        0.0070\n",
      "model solved in 4.602822780609131 seconds\n",
      "-0.06853560878088912\n",
      "0.3671    -2.0437    0.7976    65.4905        0.0070\n",
      "model solved in 5.187645435333252 seconds\n",
      "-0.06853560877418054\n",
      "0.3671    -2.0437    0.7976    65.4905        0.0070\n",
      "model solved in 5.248433351516724 seconds\n",
      "-0.06853560877090754\n",
      "0.3671    -2.0437    0.7976    65.4905        0.0070\n",
      "model solved in 4.351179838180542 seconds\n",
      "-0.06853560877486309\n",
      "0.3671    -2.0437    0.7976    65.4905        0.0070\n",
      "model solved in 4.335007190704346 seconds\n",
      "-0.06853560877486309\n",
      "0.3697    -2.0427    0.8153    65.4905        0.0070\n",
      "model solved in 4.216504812240601 seconds\n",
      "-0.0685337758857566\n",
      "0.3697    -2.0427    0.8153    65.4905        0.0070\n",
      "model solved in 4.113161563873291 seconds\n",
      "-0.06853377588720491\n",
      "0.3697    -2.0427    0.8153    65.4905        0.0070\n",
      "model solved in 4.160370111465454 seconds\n",
      "-0.06853377588534885\n",
      "0.3697    -2.0427    0.8153    65.4905        0.0070\n",
      "model solved in 4.192324161529541 seconds\n",
      "-0.06853377588557527\n",
      "0.3697    -2.0427    0.8153    65.4905        0.0070\n",
      "model solved in 5.650713205337524 seconds\n",
      "-0.0685337758857566\n",
      "0.3697    -2.0427    0.8153    65.4905        0.0070\n",
      "model solved in 5.821426153182983 seconds\n",
      "-0.0685337758857566\n",
      "0.3694    -2.0427    0.8148    65.4905        0.0070\n",
      "model solved in 5.9204466342926025 seconds\n",
      "-0.06853375792414564\n",
      "0.3694    -2.0427    0.8148    65.4905        0.0070\n",
      "model solved in 5.602360963821411 seconds\n",
      "-0.06853375792447491\n",
      "0.3694    -2.0427    0.8148    65.4905        0.0070\n",
      "model solved in 6.316779613494873 seconds\n",
      "-0.06853375792378798\n",
      "0.3694    -2.0427    0.8148    65.4905        0.0070\n",
      "model solved in 5.952370882034302 seconds\n",
      "-0.068533757924114\n",
      "0.3694    -2.0427    0.8148    65.4905        0.0070\n",
      "model solved in 4.530220985412598 seconds\n",
      "-0.06853375792414564\n",
      "0.3694    -2.0427    0.8148    65.4905        0.0070\n",
      "model solved in 4.517061710357666 seconds\n",
      "-0.06853375792414564\n",
      "0.3693    -2.0427    0.8146    65.4905        0.0070\n",
      "model solved in 5.150611639022827 seconds\n",
      "-0.06853375624868396\n",
      "0.3693    -2.0427    0.8146    65.4905        0.0070\n",
      "model solved in 4.359649658203125 seconds\n",
      "-0.06853375624864456\n",
      "0.3693    -2.0427    0.8146    65.4905        0.0070\n",
      "model solved in 4.697441101074219 seconds\n",
      "-0.06853375624834564\n",
      "0.3693    -2.0427    0.8146    65.4905        0.0070\n",
      "model solved in 3.962097406387329 seconds\n",
      "-0.06853375624870921\n",
      "0.3693    -2.0427    0.8146    65.4905        0.0070\n",
      "model solved in 4.319485425949097 seconds\n",
      "-0.06853375624868396\n",
      "0.3693    -2.0427    0.8146    65.4905        0.0070\n",
      "model solved in 4.637772560119629 seconds\n",
      "-0.06853375624868396\n",
      "0.3692    -2.0426    0.8146    65.4905        0.0070\n",
      "model solved in 4.268735647201538 seconds\n",
      "-0.06853375552402037\n",
      "0.3692    -2.0426    0.8146    65.4905        0.0070\n",
      "model solved in 4.629960298538208 seconds\n",
      "-0.06853375552389498\n",
      "0.3692    -2.0426    0.8146    65.4905        0.0070\n",
      "model solved in 4.280245780944824 seconds\n",
      "-0.06853375552368621\n",
      "0.3692    -2.0426    0.8146    65.4905        0.0070\n",
      "model solved in 4.4890522956848145 seconds\n",
      "-0.06853375552405895\n",
      "0.3692    -2.0426    0.8146    65.4905        0.0070\n",
      "model solved in 4.670735597610474 seconds\n",
      "-0.06853375552402037\n",
      "0.3692    -2.0426    0.8146    65.4905        0.0070\n",
      "model solved in 4.297636270523071 seconds\n",
      "-0.06853375552402037\n",
      "0.3692    -2.0426    0.8146    65.4905        0.0070\n",
      "model solved in 4.367321729660034 seconds\n",
      "-0.06853375413303389\n",
      "0.3692    -2.0426    0.8146    65.4905        0.0070\n",
      "model solved in 4.528777837753296 seconds\n",
      "-0.06853375413281715\n",
      "0.3692    -2.0426    0.8146    65.4905        0.0070\n",
      "model solved in 4.2502570152282715 seconds\n",
      "-0.06853375413270349\n",
      "0.3692    -2.0426    0.8146    65.4905        0.0070\n",
      "model solved in 4.0909504890441895 seconds\n",
      "-0.06853375413308276\n",
      "0.3692    -2.0426    0.8146    65.4905        0.0070\n",
      "model solved in 4.190094232559204 seconds\n",
      "-0.06853375413303389\n",
      "0.3692    -2.0426    0.8146    65.4905        0.0070\n",
      "model solved in 4.178637981414795 seconds\n",
      "-0.06853375413303389\n",
      "0.3691    -2.0423    0.8144    65.4905        0.0070\n"
     ]
    },
    {
     "ename": "KeyboardInterrupt",
     "evalue": "",
     "output_type": "error",
     "traceback": [
      "\u001b[1;31m---------------------------------------------------------------------------\u001b[0m",
      "\u001b[1;31mKeyboardInterrupt\u001b[0m                         Traceback (most recent call last)",
      "\u001b[1;32m<ipython-input-29-415477f2e2ce>\u001b[0m in \u001b[0;36m<module>\u001b[1;34m\u001b[0m\n\u001b[0;32m      4\u001b[0m \u001b[1;31m#Different initial guesses\u001b[0m\u001b[1;33m\u001b[0m\u001b[1;33m\u001b[0m\u001b[1;33m\u001b[0m\u001b[0m\n\u001b[0;32m      5\u001b[0m \u001b[1;33m\u001b[0m\u001b[0m\n\u001b[1;32m----> 6\u001b[1;33m \u001b[0mtheta_hat\u001b[0m\u001b[1;33m,\u001b[0m \u001b[0mloglik\u001b[0m\u001b[1;33m,\u001b[0m \u001b[0mmodel_new\u001b[0m \u001b[1;33m=\u001b[0m \u001b[0mest\u001b[0m\u001b[1;33m.\u001b[0m\u001b[0mestimate\u001b[0m\u001b[1;33m(\u001b[0m\u001b[0mmodel\u001b[0m\u001b[1;33m=\u001b[0m\u001b[0mmodel5\u001b[0m\u001b[1;33m,\u001b[0m\u001b[0mdata\u001b[0m\u001b[1;33m=\u001b[0m\u001b[0mdata5\u001b[0m\u001b[1;33m,\u001b[0m\u001b[0mtheta0\u001b[0m\u001b[1;33m=\u001b[0m\u001b[1;33m[\u001b[0m\u001b[1;36m0.3424\u001b[0m\u001b[1;33m,\u001b[0m\u001b[1;33m-\u001b[0m\u001b[1;36m2.0450\u001b[0m\u001b[1;33m,\u001b[0m\u001b[1;36m0.7610\u001b[0m\u001b[1;33m,\u001b[0m\u001b[1;36m65.4905\u001b[0m\u001b[1;33m,\u001b[0m\u001b[1;36m0.0070\u001b[0m\u001b[1;33m]\u001b[0m\u001b[1;33m)\u001b[0m\u001b[1;33m\u001b[0m\u001b[1;33m\u001b[0m\u001b[0m\n\u001b[0m\u001b[0;32m      7\u001b[0m \u001b[1;31m#theta_hat, loglik, model_new = est.estimate(model=model5,data=data5,theta0=[0.8,0.8,0.35,65,0.007])\u001b[0m\u001b[1;33m\u001b[0m\u001b[1;33m\u001b[0m\u001b[1;33m\u001b[0m\u001b[0m\n\u001b[0;32m      8\u001b[0m \u001b[1;31m#theta_hat, model_new = est.estimate(model=model5,data=data5,theta0=[0,0,0,0,0])\u001b[0m\u001b[1;33m\u001b[0m\u001b[1;33m\u001b[0m\u001b[1;33m\u001b[0m\u001b[0m\n",
      "\u001b[1;32m~\\Google Drive\\Skole\\Dynamic programming\\DynamicProgramming\\estimate.py\u001b[0m in \u001b[0;36mestimate\u001b[1;34m(model, data, theta0)\u001b[0m\n\u001b[0;32m     80\u001b[0m     \u001b[0mpnames\u001b[0m \u001b[1;33m=\u001b[0m \u001b[1;33m[\u001b[0m\u001b[1;34m'alpha'\u001b[0m\u001b[1;33m,\u001b[0m\u001b[1;34m'theta1'\u001b[0m\u001b[1;33m,\u001b[0m\u001b[1;34m'theta2'\u001b[0m\u001b[1;33m,\u001b[0m\u001b[1;34m'theta3'\u001b[0m\u001b[1;33m,\u001b[0m\u001b[1;34m'theta4'\u001b[0m\u001b[1;33m]\u001b[0m\u001b[1;33m\u001b[0m\u001b[1;33m\u001b[0m\u001b[0m\n\u001b[0;32m     81\u001b[0m     \u001b[1;31m#theta0 = [model.alpha,model.theta1, model.theta2,model.theta3,model.theta4] Set initial guess to karlstrom values\u001b[0m\u001b[1;33m\u001b[0m\u001b[1;33m\u001b[0m\u001b[1;33m\u001b[0m\u001b[0m\n\u001b[1;32m---> 82\u001b[1;33m     \u001b[0mres\u001b[0m \u001b[1;33m=\u001b[0m \u001b[0moptimize\u001b[0m\u001b[1;33m.\u001b[0m\u001b[0mminimize\u001b[0m\u001b[1;33m(\u001b[0m\u001b[0mll\u001b[0m\u001b[1;33m,\u001b[0m\u001b[0mtheta0\u001b[0m\u001b[1;33m,\u001b[0m \u001b[0margs\u001b[0m \u001b[1;33m=\u001b[0m \u001b[1;33m(\u001b[0m\u001b[0mmodel\u001b[0m\u001b[1;33m,\u001b[0m\u001b[0mdata\u001b[0m\u001b[1;33m,\u001b[0m\u001b[0mpnames\u001b[0m\u001b[1;33m)\u001b[0m\u001b[1;33m,\u001b[0m \u001b[0mmethod\u001b[0m \u001b[1;33m=\u001b[0m \u001b[1;34m'BFGS'\u001b[0m\u001b[1;33m,\u001b[0m \u001b[0mtol\u001b[0m \u001b[1;33m=\u001b[0m \u001b[1;36m1e-6\u001b[0m\u001b[1;33m)\u001b[0m\u001b[1;33m\u001b[0m\u001b[1;33m\u001b[0m\u001b[0m\n\u001b[0m\u001b[0;32m     83\u001b[0m \u001b[1;33m\u001b[0m\u001b[0m\n\u001b[0;32m     84\u001b[0m     \u001b[1;31m# Save result\u001b[0m\u001b[1;33m\u001b[0m\u001b[1;33m\u001b[0m\u001b[1;33m\u001b[0m\u001b[0m\n",
      "\u001b[1;32m~\\anaconda3\\lib\\site-packages\\scipy\\optimize\\_minimize.py\u001b[0m in \u001b[0;36mminimize\u001b[1;34m(fun, x0, args, method, jac, hess, hessp, bounds, constraints, tol, callback, options)\u001b[0m\n\u001b[0;32m    612\u001b[0m         \u001b[1;32mreturn\u001b[0m \u001b[0m_minimize_cg\u001b[0m\u001b[1;33m(\u001b[0m\u001b[0mfun\u001b[0m\u001b[1;33m,\u001b[0m \u001b[0mx0\u001b[0m\u001b[1;33m,\u001b[0m \u001b[0margs\u001b[0m\u001b[1;33m,\u001b[0m \u001b[0mjac\u001b[0m\u001b[1;33m,\u001b[0m \u001b[0mcallback\u001b[0m\u001b[1;33m,\u001b[0m \u001b[1;33m**\u001b[0m\u001b[0moptions\u001b[0m\u001b[1;33m)\u001b[0m\u001b[1;33m\u001b[0m\u001b[1;33m\u001b[0m\u001b[0m\n\u001b[0;32m    613\u001b[0m     \u001b[1;32melif\u001b[0m \u001b[0mmeth\u001b[0m \u001b[1;33m==\u001b[0m \u001b[1;34m'bfgs'\u001b[0m\u001b[1;33m:\u001b[0m\u001b[1;33m\u001b[0m\u001b[1;33m\u001b[0m\u001b[0m\n\u001b[1;32m--> 614\u001b[1;33m         \u001b[1;32mreturn\u001b[0m \u001b[0m_minimize_bfgs\u001b[0m\u001b[1;33m(\u001b[0m\u001b[0mfun\u001b[0m\u001b[1;33m,\u001b[0m \u001b[0mx0\u001b[0m\u001b[1;33m,\u001b[0m \u001b[0margs\u001b[0m\u001b[1;33m,\u001b[0m \u001b[0mjac\u001b[0m\u001b[1;33m,\u001b[0m \u001b[0mcallback\u001b[0m\u001b[1;33m,\u001b[0m \u001b[1;33m**\u001b[0m\u001b[0moptions\u001b[0m\u001b[1;33m)\u001b[0m\u001b[1;33m\u001b[0m\u001b[1;33m\u001b[0m\u001b[0m\n\u001b[0m\u001b[0;32m    615\u001b[0m     \u001b[1;32melif\u001b[0m \u001b[0mmeth\u001b[0m \u001b[1;33m==\u001b[0m \u001b[1;34m'newton-cg'\u001b[0m\u001b[1;33m:\u001b[0m\u001b[1;33m\u001b[0m\u001b[1;33m\u001b[0m\u001b[0m\n\u001b[0;32m    616\u001b[0m         return _minimize_newtoncg(fun, x0, args, jac, hess, hessp, callback,\n",
      "\u001b[1;32m~\\anaconda3\\lib\\site-packages\\scipy\\optimize\\optimize.py\u001b[0m in \u001b[0;36m_minimize_bfgs\u001b[1;34m(fun, x0, args, jac, callback, gtol, norm, eps, maxiter, disp, return_all, finite_diff_rel_step, **unknown_options)\u001b[0m\n\u001b[0;32m   1167\u001b[0m         \u001b[1;32mtry\u001b[0m\u001b[1;33m:\u001b[0m\u001b[1;33m\u001b[0m\u001b[1;33m\u001b[0m\u001b[0m\n\u001b[0;32m   1168\u001b[0m             \u001b[0malpha_k\u001b[0m\u001b[1;33m,\u001b[0m \u001b[0mfc\u001b[0m\u001b[1;33m,\u001b[0m \u001b[0mgc\u001b[0m\u001b[1;33m,\u001b[0m \u001b[0mold_fval\u001b[0m\u001b[1;33m,\u001b[0m \u001b[0mold_old_fval\u001b[0m\u001b[1;33m,\u001b[0m \u001b[0mgfkp1\u001b[0m \u001b[1;33m=\u001b[0m\u001b[0;31m \u001b[0m\u001b[0;31m\\\u001b[0m\u001b[1;33m\u001b[0m\u001b[1;33m\u001b[0m\u001b[0m\n\u001b[1;32m-> 1169\u001b[1;33m                      _line_search_wolfe12(f, myfprime, xk, pk, gfk,\n\u001b[0m\u001b[0;32m   1170\u001b[0m                                           old_fval, old_old_fval, amin=1e-100, amax=1e100)\n\u001b[0;32m   1171\u001b[0m         \u001b[1;32mexcept\u001b[0m \u001b[0m_LineSearchError\u001b[0m\u001b[1;33m:\u001b[0m\u001b[1;33m\u001b[0m\u001b[1;33m\u001b[0m\u001b[0m\n",
      "\u001b[1;32m~\\anaconda3\\lib\\site-packages\\scipy\\optimize\\optimize.py\u001b[0m in \u001b[0;36m_line_search_wolfe12\u001b[1;34m(f, fprime, xk, pk, gfk, old_fval, old_old_fval, **kwargs)\u001b[0m\n\u001b[0;32m    966\u001b[0m     \u001b[0mextra_condition\u001b[0m \u001b[1;33m=\u001b[0m \u001b[0mkwargs\u001b[0m\u001b[1;33m.\u001b[0m\u001b[0mpop\u001b[0m\u001b[1;33m(\u001b[0m\u001b[1;34m'extra_condition'\u001b[0m\u001b[1;33m,\u001b[0m \u001b[1;32mNone\u001b[0m\u001b[1;33m)\u001b[0m\u001b[1;33m\u001b[0m\u001b[1;33m\u001b[0m\u001b[0m\n\u001b[0;32m    967\u001b[0m \u001b[1;33m\u001b[0m\u001b[0m\n\u001b[1;32m--> 968\u001b[1;33m     ret = line_search_wolfe1(f, fprime, xk, pk, gfk,\n\u001b[0m\u001b[0;32m    969\u001b[0m                              \u001b[0mold_fval\u001b[0m\u001b[1;33m,\u001b[0m \u001b[0mold_old_fval\u001b[0m\u001b[1;33m,\u001b[0m\u001b[1;33m\u001b[0m\u001b[1;33m\u001b[0m\u001b[0m\n\u001b[0;32m    970\u001b[0m                              **kwargs)\n",
      "\u001b[1;32m~\\anaconda3\\lib\\site-packages\\scipy\\optimize\\linesearch.py\u001b[0m in \u001b[0;36mline_search_wolfe1\u001b[1;34m(f, fprime, xk, pk, gfk, old_fval, old_old_fval, args, c1, c2, amax, amin, xtol)\u001b[0m\n\u001b[0;32m     94\u001b[0m     \u001b[0mderphi0\u001b[0m \u001b[1;33m=\u001b[0m \u001b[0mnp\u001b[0m\u001b[1;33m.\u001b[0m\u001b[0mdot\u001b[0m\u001b[1;33m(\u001b[0m\u001b[0mgfk\u001b[0m\u001b[1;33m,\u001b[0m \u001b[0mpk\u001b[0m\u001b[1;33m)\u001b[0m\u001b[1;33m\u001b[0m\u001b[1;33m\u001b[0m\u001b[0m\n\u001b[0;32m     95\u001b[0m \u001b[1;33m\u001b[0m\u001b[0m\n\u001b[1;32m---> 96\u001b[1;33m     stp, fval, old_fval = scalar_search_wolfe1(\n\u001b[0m\u001b[0;32m     97\u001b[0m             \u001b[0mphi\u001b[0m\u001b[1;33m,\u001b[0m \u001b[0mderphi\u001b[0m\u001b[1;33m,\u001b[0m \u001b[0mold_fval\u001b[0m\u001b[1;33m,\u001b[0m \u001b[0mold_old_fval\u001b[0m\u001b[1;33m,\u001b[0m \u001b[0mderphi0\u001b[0m\u001b[1;33m,\u001b[0m\u001b[1;33m\u001b[0m\u001b[1;33m\u001b[0m\u001b[0m\n\u001b[0;32m     98\u001b[0m             c1=c1, c2=c2, amax=amax, amin=amin, xtol=xtol)\n",
      "\u001b[1;32m~\\anaconda3\\lib\\site-packages\\scipy\\optimize\\linesearch.py\u001b[0m in \u001b[0;36mscalar_search_wolfe1\u001b[1;34m(phi, derphi, phi0, old_phi0, derphi0, c1, c2, amax, amin, xtol)\u001b[0m\n\u001b[0;32m    170\u001b[0m         \u001b[1;32mif\u001b[0m \u001b[0mtask\u001b[0m\u001b[1;33m[\u001b[0m\u001b[1;33m:\u001b[0m\u001b[1;36m2\u001b[0m\u001b[1;33m]\u001b[0m \u001b[1;33m==\u001b[0m \u001b[1;34mb'FG'\u001b[0m\u001b[1;33m:\u001b[0m\u001b[1;33m\u001b[0m\u001b[1;33m\u001b[0m\u001b[0m\n\u001b[0;32m    171\u001b[0m             \u001b[0malpha1\u001b[0m \u001b[1;33m=\u001b[0m \u001b[0mstp\u001b[0m\u001b[1;33m\u001b[0m\u001b[1;33m\u001b[0m\u001b[0m\n\u001b[1;32m--> 172\u001b[1;33m             \u001b[0mphi1\u001b[0m \u001b[1;33m=\u001b[0m \u001b[0mphi\u001b[0m\u001b[1;33m(\u001b[0m\u001b[0mstp\u001b[0m\u001b[1;33m)\u001b[0m\u001b[1;33m\u001b[0m\u001b[1;33m\u001b[0m\u001b[0m\n\u001b[0m\u001b[0;32m    173\u001b[0m             \u001b[0mderphi1\u001b[0m \u001b[1;33m=\u001b[0m \u001b[0mderphi\u001b[0m\u001b[1;33m(\u001b[0m\u001b[0mstp\u001b[0m\u001b[1;33m)\u001b[0m\u001b[1;33m\u001b[0m\u001b[1;33m\u001b[0m\u001b[0m\n\u001b[0;32m    174\u001b[0m         \u001b[1;32melse\u001b[0m\u001b[1;33m:\u001b[0m\u001b[1;33m\u001b[0m\u001b[1;33m\u001b[0m\u001b[0m\n",
      "\u001b[1;32m~\\anaconda3\\lib\\site-packages\\scipy\\optimize\\linesearch.py\u001b[0m in \u001b[0;36mphi\u001b[1;34m(s)\u001b[0m\n\u001b[0;32m     82\u001b[0m     \u001b[1;32mdef\u001b[0m \u001b[0mphi\u001b[0m\u001b[1;33m(\u001b[0m\u001b[0ms\u001b[0m\u001b[1;33m)\u001b[0m\u001b[1;33m:\u001b[0m\u001b[1;33m\u001b[0m\u001b[1;33m\u001b[0m\u001b[0m\n\u001b[0;32m     83\u001b[0m         \u001b[0mfc\u001b[0m\u001b[1;33m[\u001b[0m\u001b[1;36m0\u001b[0m\u001b[1;33m]\u001b[0m \u001b[1;33m+=\u001b[0m \u001b[1;36m1\u001b[0m\u001b[1;33m\u001b[0m\u001b[1;33m\u001b[0m\u001b[0m\n\u001b[1;32m---> 84\u001b[1;33m         \u001b[1;32mreturn\u001b[0m \u001b[0mf\u001b[0m\u001b[1;33m(\u001b[0m\u001b[0mxk\u001b[0m \u001b[1;33m+\u001b[0m \u001b[0ms\u001b[0m\u001b[1;33m*\u001b[0m\u001b[0mpk\u001b[0m\u001b[1;33m,\u001b[0m \u001b[1;33m*\u001b[0m\u001b[0margs\u001b[0m\u001b[1;33m)\u001b[0m\u001b[1;33m\u001b[0m\u001b[1;33m\u001b[0m\u001b[0m\n\u001b[0m\u001b[0;32m     85\u001b[0m \u001b[1;33m\u001b[0m\u001b[0m\n\u001b[0;32m     86\u001b[0m     \u001b[1;32mdef\u001b[0m \u001b[0mderphi\u001b[0m\u001b[1;33m(\u001b[0m\u001b[0ms\u001b[0m\u001b[1;33m)\u001b[0m\u001b[1;33m:\u001b[0m\u001b[1;33m\u001b[0m\u001b[1;33m\u001b[0m\u001b[0m\n",
      "\u001b[1;32m~\\anaconda3\\lib\\site-packages\\scipy\\optimize\\_differentiable_functions.py\u001b[0m in \u001b[0;36mfun\u001b[1;34m(self, x)\u001b[0m\n\u001b[0;32m    240\u001b[0m         \u001b[1;32mif\u001b[0m \u001b[1;32mnot\u001b[0m \u001b[0mnp\u001b[0m\u001b[1;33m.\u001b[0m\u001b[0marray_equal\u001b[0m\u001b[1;33m(\u001b[0m\u001b[0mx\u001b[0m\u001b[1;33m,\u001b[0m \u001b[0mself\u001b[0m\u001b[1;33m.\u001b[0m\u001b[0mx\u001b[0m\u001b[1;33m)\u001b[0m\u001b[1;33m:\u001b[0m\u001b[1;33m\u001b[0m\u001b[1;33m\u001b[0m\u001b[0m\n\u001b[0;32m    241\u001b[0m             \u001b[0mself\u001b[0m\u001b[1;33m.\u001b[0m\u001b[0m_update_x_impl\u001b[0m\u001b[1;33m(\u001b[0m\u001b[0mx\u001b[0m\u001b[1;33m)\u001b[0m\u001b[1;33m\u001b[0m\u001b[1;33m\u001b[0m\u001b[0m\n\u001b[1;32m--> 242\u001b[1;33m         \u001b[0mself\u001b[0m\u001b[1;33m.\u001b[0m\u001b[0m_update_fun\u001b[0m\u001b[1;33m(\u001b[0m\u001b[1;33m)\u001b[0m\u001b[1;33m\u001b[0m\u001b[1;33m\u001b[0m\u001b[0m\n\u001b[0m\u001b[0;32m    243\u001b[0m         \u001b[1;32mreturn\u001b[0m \u001b[0mself\u001b[0m\u001b[1;33m.\u001b[0m\u001b[0mf\u001b[0m\u001b[1;33m\u001b[0m\u001b[1;33m\u001b[0m\u001b[0m\n\u001b[0;32m    244\u001b[0m \u001b[1;33m\u001b[0m\u001b[0m\n",
      "\u001b[1;32m~\\anaconda3\\lib\\site-packages\\scipy\\optimize\\_differentiable_functions.py\u001b[0m in \u001b[0;36m_update_fun\u001b[1;34m(self)\u001b[0m\n\u001b[0;32m    224\u001b[0m     \u001b[1;32mdef\u001b[0m \u001b[0m_update_fun\u001b[0m\u001b[1;33m(\u001b[0m\u001b[0mself\u001b[0m\u001b[1;33m)\u001b[0m\u001b[1;33m:\u001b[0m\u001b[1;33m\u001b[0m\u001b[1;33m\u001b[0m\u001b[0m\n\u001b[0;32m    225\u001b[0m         \u001b[1;32mif\u001b[0m \u001b[1;32mnot\u001b[0m \u001b[0mself\u001b[0m\u001b[1;33m.\u001b[0m\u001b[0mf_updated\u001b[0m\u001b[1;33m:\u001b[0m\u001b[1;33m\u001b[0m\u001b[1;33m\u001b[0m\u001b[0m\n\u001b[1;32m--> 226\u001b[1;33m             \u001b[0mself\u001b[0m\u001b[1;33m.\u001b[0m\u001b[0m_update_fun_impl\u001b[0m\u001b[1;33m(\u001b[0m\u001b[1;33m)\u001b[0m\u001b[1;33m\u001b[0m\u001b[1;33m\u001b[0m\u001b[0m\n\u001b[0m\u001b[0;32m    227\u001b[0m             \u001b[0mself\u001b[0m\u001b[1;33m.\u001b[0m\u001b[0mf_updated\u001b[0m \u001b[1;33m=\u001b[0m \u001b[1;32mTrue\u001b[0m\u001b[1;33m\u001b[0m\u001b[1;33m\u001b[0m\u001b[0m\n\u001b[0;32m    228\u001b[0m \u001b[1;33m\u001b[0m\u001b[0m\n",
      "\u001b[1;32m~\\anaconda3\\lib\\site-packages\\scipy\\optimize\\_differentiable_functions.py\u001b[0m in \u001b[0;36mupdate_fun\u001b[1;34m()\u001b[0m\n\u001b[0;32m    131\u001b[0m \u001b[1;33m\u001b[0m\u001b[0m\n\u001b[0;32m    132\u001b[0m         \u001b[1;32mdef\u001b[0m \u001b[0mupdate_fun\u001b[0m\u001b[1;33m(\u001b[0m\u001b[1;33m)\u001b[0m\u001b[1;33m:\u001b[0m\u001b[1;33m\u001b[0m\u001b[1;33m\u001b[0m\u001b[0m\n\u001b[1;32m--> 133\u001b[1;33m             \u001b[0mself\u001b[0m\u001b[1;33m.\u001b[0m\u001b[0mf\u001b[0m \u001b[1;33m=\u001b[0m \u001b[0mfun_wrapped\u001b[0m\u001b[1;33m(\u001b[0m\u001b[0mself\u001b[0m\u001b[1;33m.\u001b[0m\u001b[0mx\u001b[0m\u001b[1;33m)\u001b[0m\u001b[1;33m\u001b[0m\u001b[1;33m\u001b[0m\u001b[0m\n\u001b[0m\u001b[0;32m    134\u001b[0m \u001b[1;33m\u001b[0m\u001b[0m\n\u001b[0;32m    135\u001b[0m         \u001b[0mself\u001b[0m\u001b[1;33m.\u001b[0m\u001b[0m_update_fun_impl\u001b[0m \u001b[1;33m=\u001b[0m \u001b[0mupdate_fun\u001b[0m\u001b[1;33m\u001b[0m\u001b[1;33m\u001b[0m\u001b[0m\n",
      "\u001b[1;32m~\\anaconda3\\lib\\site-packages\\scipy\\optimize\\_differentiable_functions.py\u001b[0m in \u001b[0;36mfun_wrapped\u001b[1;34m(x)\u001b[0m\n\u001b[0;32m    128\u001b[0m         \u001b[1;32mdef\u001b[0m \u001b[0mfun_wrapped\u001b[0m\u001b[1;33m(\u001b[0m\u001b[0mx\u001b[0m\u001b[1;33m)\u001b[0m\u001b[1;33m:\u001b[0m\u001b[1;33m\u001b[0m\u001b[1;33m\u001b[0m\u001b[0m\n\u001b[0;32m    129\u001b[0m             \u001b[0mself\u001b[0m\u001b[1;33m.\u001b[0m\u001b[0mnfev\u001b[0m \u001b[1;33m+=\u001b[0m \u001b[1;36m1\u001b[0m\u001b[1;33m\u001b[0m\u001b[1;33m\u001b[0m\u001b[0m\n\u001b[1;32m--> 130\u001b[1;33m             \u001b[1;32mreturn\u001b[0m \u001b[0mfun\u001b[0m\u001b[1;33m(\u001b[0m\u001b[0mx\u001b[0m\u001b[1;33m,\u001b[0m \u001b[1;33m*\u001b[0m\u001b[0margs\u001b[0m\u001b[1;33m)\u001b[0m\u001b[1;33m\u001b[0m\u001b[1;33m\u001b[0m\u001b[0m\n\u001b[0m\u001b[0;32m    131\u001b[0m \u001b[1;33m\u001b[0m\u001b[0m\n\u001b[0;32m    132\u001b[0m         \u001b[1;32mdef\u001b[0m \u001b[0mupdate_fun\u001b[0m\u001b[1;33m(\u001b[0m\u001b[1;33m)\u001b[0m\u001b[1;33m:\u001b[0m\u001b[1;33m\u001b[0m\u001b[1;33m\u001b[0m\u001b[0m\n",
      "\u001b[1;32m~\\Google Drive\\Skole\\Dynamic programming\\DynamicProgramming\\estimate.py\u001b[0m in \u001b[0;36mll\u001b[1;34m(theta, model, data, pnames)\u001b[0m\n\u001b[0;32m     60\u001b[0m \u001b[1;33m\u001b[0m\u001b[0m\n\u001b[0;32m     61\u001b[0m     \u001b[1;31m# Solve model\u001b[0m\u001b[1;33m\u001b[0m\u001b[1;33m\u001b[0m\u001b[1;33m\u001b[0m\u001b[0m\n\u001b[1;32m---> 62\u001b[1;33m     \u001b[0msol\u001b[0m \u001b[1;33m=\u001b[0m \u001b[0mmodel\u001b[0m\u001b[1;33m.\u001b[0m\u001b[0mbellman\u001b[0m\u001b[1;33m(\u001b[0m\u001b[1;33m)\u001b[0m\u001b[1;33m\u001b[0m\u001b[1;33m\u001b[0m\u001b[0m\n\u001b[0m\u001b[0;32m     63\u001b[0m \u001b[1;33m\u001b[0m\u001b[0m\n\u001b[0;32m     64\u001b[0m     \u001b[1;31m# Choice probability for working for each observation\u001b[0m\u001b[1;33m\u001b[0m\u001b[1;33m\u001b[0m\u001b[1;33m\u001b[0m\u001b[0m\n",
      "\u001b[1;32m~\\Google Drive\\Skole\\Dynamic programming\\DynamicProgramming\\ver5.py\u001b[0m in \u001b[0;36mbellman\u001b[1;34m(self)\u001b[0m\n\u001b[0;32m    263\u001b[0m                     \u001b[0mEV_next_retire_if_work_m\u001b[0m \u001b[1;33m=\u001b[0m \u001b[0mnp\u001b[0m\u001b[1;33m.\u001b[0m\u001b[0minterp\u001b[0m\u001b[1;33m(\u001b[0m\u001b[0map_next\u001b[0m\u001b[1;33m,\u001b[0m \u001b[0msol\u001b[0m\u001b[1;33m.\u001b[0m\u001b[0mgrid_ap\u001b[0m\u001b[1;33m[\u001b[0m\u001b[1;33m:\u001b[0m\u001b[1;33m]\u001b[0m\u001b[1;33m,\u001b[0m\u001b[0msol\u001b[0m\u001b[1;33m.\u001b[0m\u001b[0mvr\u001b[0m\u001b[1;33m[\u001b[0m\u001b[0mit\u001b[0m\u001b[1;33m+\u001b[0m\u001b[1;36m1\u001b[0m\u001b[1;33m,\u001b[0m\u001b[1;33m:\u001b[0m\u001b[1;33m,\u001b[0m\u001b[1;36m1\u001b[0m\u001b[1;33m]\u001b[0m\u001b[1;33m)\u001b[0m\u001b[1;33m\u001b[0m\u001b[1;33m\u001b[0m\u001b[0m\n\u001b[0;32m    264\u001b[0m                     \u001b[1;31m# Create function taking ap and w and interpolates to vw\u001b[0m\u001b[1;33m\u001b[0m\u001b[1;33m\u001b[0m\u001b[1;33m\u001b[0m\u001b[0m\n\u001b[1;32m--> 265\u001b[1;33m                     \u001b[0mf_um\u001b[0m \u001b[1;33m=\u001b[0m \u001b[0minterpolate\u001b[0m\u001b[1;33m.\u001b[0m\u001b[0minterp2d\u001b[0m\u001b[1;33m(\u001b[0m\u001b[0msol\u001b[0m\u001b[1;33m.\u001b[0m\u001b[0mgrid_ap\u001b[0m\u001b[1;33m[\u001b[0m\u001b[1;33m:\u001b[0m\u001b[1;33m]\u001b[0m\u001b[1;33m,\u001b[0m\u001b[0msol\u001b[0m\u001b[1;33m.\u001b[0m\u001b[0mgrid_W\u001b[0m\u001b[1;33m[\u001b[0m\u001b[1;33m:\u001b[0m\u001b[1;33m,\u001b[0m \u001b[0mit\u001b[0m\u001b[1;33m+\u001b[0m\u001b[1;36m1\u001b[0m\u001b[1;33m]\u001b[0m\u001b[1;33m,\u001b[0m\u001b[0msol\u001b[0m\u001b[1;33m.\u001b[0m\u001b[0mvw\u001b[0m\u001b[1;33m[\u001b[0m\u001b[0mit\u001b[0m\u001b[1;33m+\u001b[0m\u001b[1;36m1\u001b[0m\u001b[1;33m,\u001b[0m\u001b[1;33m:\u001b[0m\u001b[1;33m,\u001b[0m\u001b[1;33m:\u001b[0m\u001b[1;33m,\u001b[0m\u001b[1;36m0\u001b[0m\u001b[1;33m]\u001b[0m\u001b[1;33m)\u001b[0m\u001b[1;33m\u001b[0m\u001b[1;33m\u001b[0m\u001b[0m\n\u001b[0m\u001b[0;32m    266\u001b[0m                     \u001b[0mf_m\u001b[0m \u001b[1;33m=\u001b[0m \u001b[0minterpolate\u001b[0m\u001b[1;33m.\u001b[0m\u001b[0minterp2d\u001b[0m\u001b[1;33m(\u001b[0m\u001b[0msol\u001b[0m\u001b[1;33m.\u001b[0m\u001b[0mgrid_ap\u001b[0m\u001b[1;33m[\u001b[0m\u001b[1;33m:\u001b[0m\u001b[1;33m]\u001b[0m\u001b[1;33m,\u001b[0m\u001b[0msol\u001b[0m\u001b[1;33m.\u001b[0m\u001b[0mgrid_W\u001b[0m\u001b[1;33m[\u001b[0m\u001b[1;33m:\u001b[0m\u001b[1;33m,\u001b[0m \u001b[0mit\u001b[0m\u001b[1;33m+\u001b[0m\u001b[1;36m1\u001b[0m\u001b[1;33m]\u001b[0m\u001b[1;33m,\u001b[0m\u001b[0msol\u001b[0m\u001b[1;33m.\u001b[0m\u001b[0mvw\u001b[0m\u001b[1;33m[\u001b[0m\u001b[0mit\u001b[0m\u001b[1;33m+\u001b[0m\u001b[1;36m1\u001b[0m\u001b[1;33m,\u001b[0m\u001b[1;33m:\u001b[0m\u001b[1;33m,\u001b[0m\u001b[1;33m:\u001b[0m\u001b[1;33m,\u001b[0m\u001b[1;36m1\u001b[0m\u001b[1;33m]\u001b[0m\u001b[1;33m)\u001b[0m\u001b[1;33m\u001b[0m\u001b[1;33m\u001b[0m\u001b[0m\n\u001b[0;32m    267\u001b[0m                     \u001b[1;32mfor\u001b[0m \u001b[0ms\u001b[0m \u001b[1;32min\u001b[0m \u001b[0mrange\u001b[0m\u001b[1;33m(\u001b[0m\u001b[0mself\u001b[0m\u001b[1;33m.\u001b[0m\u001b[0mnum_shocks\u001b[0m\u001b[1;33m)\u001b[0m\u001b[1;33m:\u001b[0m\u001b[1;33m\u001b[0m\u001b[1;33m\u001b[0m\u001b[0m\n",
      "\u001b[1;32m~\\anaconda3\\lib\\site-packages\\scipy\\interpolate\\interpolate.py\u001b[0m in \u001b[0;36m__init__\u001b[1;34m(self, x, y, z, kind, copy, bounds_error, fill_value)\u001b[0m\n\u001b[0;32m    229\u001b[0m             \u001b[0mself\u001b[0m\u001b[1;33m.\u001b[0m\u001b[0mtck\u001b[0m \u001b[1;33m=\u001b[0m \u001b[0mfitpack\u001b[0m\u001b[1;33m.\u001b[0m\u001b[0mbisplrep\u001b[0m\u001b[1;33m(\u001b[0m\u001b[0mx\u001b[0m\u001b[1;33m,\u001b[0m \u001b[0my\u001b[0m\u001b[1;33m,\u001b[0m \u001b[0mz\u001b[0m\u001b[1;33m,\u001b[0m \u001b[0mkx\u001b[0m\u001b[1;33m=\u001b[0m\u001b[0mkx\u001b[0m\u001b[1;33m,\u001b[0m \u001b[0mky\u001b[0m\u001b[1;33m=\u001b[0m\u001b[0mky\u001b[0m\u001b[1;33m,\u001b[0m \u001b[0ms\u001b[0m\u001b[1;33m=\u001b[0m\u001b[1;36m0.0\u001b[0m\u001b[1;33m)\u001b[0m\u001b[1;33m\u001b[0m\u001b[1;33m\u001b[0m\u001b[0m\n\u001b[0;32m    230\u001b[0m         \u001b[1;32melse\u001b[0m\u001b[1;33m:\u001b[0m\u001b[1;33m\u001b[0m\u001b[1;33m\u001b[0m\u001b[0m\n\u001b[1;32m--> 231\u001b[1;33m             nx, tx, ny, ty, c, fp, ier = dfitpack.regrid_smth(\n\u001b[0m\u001b[0;32m    232\u001b[0m                 \u001b[0mx\u001b[0m\u001b[1;33m,\u001b[0m \u001b[0my\u001b[0m\u001b[1;33m,\u001b[0m \u001b[0mz\u001b[0m\u001b[1;33m,\u001b[0m \u001b[1;32mNone\u001b[0m\u001b[1;33m,\u001b[0m \u001b[1;32mNone\u001b[0m\u001b[1;33m,\u001b[0m \u001b[1;32mNone\u001b[0m\u001b[1;33m,\u001b[0m \u001b[1;32mNone\u001b[0m\u001b[1;33m,\u001b[0m\u001b[1;33m\u001b[0m\u001b[1;33m\u001b[0m\u001b[0m\n\u001b[0;32m    233\u001b[0m                 kx=kx, ky=ky, s=0.0)\n",
      "\u001b[1;31mKeyboardInterrupt\u001b[0m: "
     ]
    }
   ],
   "source": [
    "# Estimation\n",
    "model5 = karl5.karlstrom()\n",
    "data5 = est.read_data(model5, ver =1)\n",
    "#Different initial guesses\n",
    "\n",
    "theta_hat, loglik, model_new = est.estimate(model=model5,data=data5,theta0=[0.3424,-2.0450,0.7610,65.4905,0.0070])\n",
    "# These guesses have also been run\n",
    "#theta_hat, loglik, model_new = est.estimate(model=model5,data=data5,theta0=[0.8,0.8,0.35,65,0.007])\n",
    "#theta_hat, model_new = est.estimate(model=model5,data=data5,theta0=[0,0,0,0,0])\n",
    "#theta_hat, loglik, model_new = est.estimate(model=model5,data=data5,theta0=theta_hat)"
   ]
  },
  {
   "cell_type": "markdown",
   "metadata": {},
   "source": [
    "## Estimated model(ver 5)"
   ]
  },
  {
   "cell_type": "code",
   "execution_count": 4,
   "metadata": {},
   "outputs": [
    {
     "name": "stderr",
     "output_type": "stream",
     "text": [
      "C:\\Users\\matia\\Google Drive\\Skole\\Dynamic programming\\DynamicProgramming\\ver5.py:146: RuntimeWarning: overflow encountered in exp\n",
      "  ((np.exp((t-self.theta[3])/self.theta[4]))/(1+np.exp((t-self.theta[3])/self.theta[4])))\n",
      "C:\\Users\\matia\\Google Drive\\Skole\\Dynamic programming\\DynamicProgramming\\ver5.py:146: RuntimeWarning: invalid value encountered in double_scalars\n",
      "  ((np.exp((t-self.theta[3])/self.theta[4]))/(1+np.exp((t-self.theta[3])/self.theta[4])))\n"
     ]
    },
    {
     "name": "stdout",
     "output_type": "stream",
     "text": [
      "model solved in 4.083770275115967 seconds\n"
     ]
    }
   ],
   "source": [
    "# Create model with our estimates, solve it and read data\n",
    "\n",
    "import ver5 as karl5\n",
    "model5_new = karl5.karlstrom()\n",
    "sol5_new = model5_new.bellman()\n",
    "model5_new.theta = [0.3424,-2.0450,0.7610,65.4905,0.0070]\n",
    "\n",
    "data5_new = est.read_data(model5_new,ver=1)\n",
    "\n",
    "# Unpack data\n",
    "\n",
    "age = data5_new.age_index\n",
    "w = data5_new.w_index\n",
    "ap = data5_new.ap_index\n",
    "m = data5_new.married\n",
    "d = data5_new.ret\n",
    "\n",
    "# Create ccp's for data\n",
    "data5_new[\"ccp\"] = sol5_new.ccp[age,w,ap,m]"
   ]
  },
  {
   "cell_type": "markdown",
   "metadata": {},
   "source": [
    "### Hazard rates"
   ]
  },
  {
   "cell_type": "code",
   "execution_count": 5,
   "metadata": {},
   "outputs": [
    {
     "name": "stdout",
     "output_type": "stream",
     "text": [
      "[0.         0.1126599  0.17144466 0.25833225 0.38245209 0.54651774\n",
      " 0.75829584 0.77304699 0.81577935 0.85051187 1.        ] \n",
      "\n",
      " 66.99146307260425\n"
     ]
    }
   ],
   "source": [
    "pr = np.zeros(np.size(model5_new.t_grid))\n",
    "for t in range (np.size(model5_new.t_grid)):\n",
    "    pr[t] = np.mean(data5_new[data5_new[\"age_index\"]==t].ccp)\n",
    "    \n",
    "    \n",
    "\n",
    "hazard = 1-pr[10:21]\n",
    "sum_hazard = np.sum(hazard)\n",
    "age = [60,61,62,63,64,65,66,67,68,69,70]\n",
    "\n",
    "Eretire = np.sum(hazard*age)/sum_hazard\n",
    "\n",
    "print(hazard,'\\n\\n',Eretire)\n"
   ]
  },
  {
   "cell_type": "markdown",
   "metadata": {},
   "source": [
    "### CCP plots"
   ]
  },
  {
   "cell_type": "code",
   "execution_count": 11,
   "metadata": {},
   "outputs": [],
   "source": [
    "# CCP for sample (Hazard rates)\n",
    "file_directory = os.getcwd() + '\\\\Data\\\\' + 'sparadata.xls' \n",
    "data = pd.read_excel(file_directory, skipfooter = 3) # Remove last 3 rows that are NA \n",
    "\n",
    "data[\"work\"] = 1 - data.ret # = 1 if working, = 0 if retired\n",
    "working = data.groupby([\"age\"])[\"work\"].sum()\n",
    "retiring = data.groupby([\"age\"])[\"ret\"].sum()\n",
    "hazard_rates = retiring / (working + retiring)\n",
    "CCP_sample = np.ones(np.shape(hazard_rates)) - hazard_rates\n",
    "CCP_sample = CCP_sample[8:] # get correct age\n",
    "CCP_s =np.cumprod(CCP_sample) # Share of population working at given age"
   ]
  },
  {
   "cell_type": "code",
   "execution_count": 12,
   "metadata": {},
   "outputs": [],
   "source": [
    "# Fitted on data\n",
    "\n",
    "# Create array for ccp age averages\n",
    "pr = np.zeros(np.size(model5_new.t_grid))\n",
    "\n",
    "# Loop over ages computing averages\n",
    "for t in range (np.size(model5_new.t_grid)):\n",
    "    pr[t] = np.mean(data5_new[data5_new[\"age_index\"]==t].ccp)\n",
    "\n",
    "# Get cumulative product of age averages\n",
    "ccp_data = np.cumprod(pr[8:21])\n",
    "\n"
   ]
  },
  {
   "cell_type": "code",
   "execution_count": 32,
   "metadata": {
    "scrolled": true
   },
   "outputs": [],
   "source": [
    "# Matched on moments\n",
    "y = np.zeros(np.size(model5_new.t_grid))\n",
    "\n",
    "for it, t in enumerate(model5_new.t_grid):\n",
    "    y[it] = np.mean(sol5_new.ccp[it,11,6,1])\n",
    "    \n",
    "ccp_moment = np.cumprod(y[8:21])"
   ]
  },
  {
   "cell_type": "code",
   "execution_count": 19,
   "metadata": {},
   "outputs": [
    {
     "data": {
      "image/png": "[encoded data removed]",
      "text/plain": [
       "<Figure size 720x360 with 2 Axes>"
      ]
     },
     "metadata": {},
     "output_type": "display_data"
    }
   ],
   "source": [
    "# Plot them in one graph\n",
    "\n",
    "# Plot on data\n",
    "fig, ax = plt.subplots(1,2, figsize=(10,5))\n",
    "ax[0].plot(model5_new.t_grid[8:21],ccp_data, label='model 5')\n",
    "ax[0].plot(model5_new.t_grid[8:21], CCP_s, label='data')\n",
    "\n",
    "ax[0].set_ylabel('Share of population working')\n",
    "ax[0].set_xlabel('Age')\n",
    "ax[0].legend(frameon=False)\n",
    "\n",
    "#plot on moments\n",
    "ax[1].plot(model5_new.t_grid[8:21],ccp_moment, label='model 5')\n",
    "ax[1].plot(model5_new.t_grid[8:21], CCP_s, label = 'data')\n",
    "\n",
    "ax[1].set_ylabel('Share of population working')\n",
    "ax[1].set_xlabel('Age')\n",
    "\n",
    "ax[1].legend(frameon=False)\n",
    "\n",
    "fig.savefig(os.getcwd() + '\\Figures\\ccp5.png')"
   ]
  },
  {
   "cell_type": "markdown",
   "metadata": {},
   "source": [
    "# Model 6 with all state variables"
   ]
  },
  {
   "cell_type": "code",
   "execution_count": 94,
   "metadata": {
    "collapsed": true,
    "jupyter": {
     "outputs_hidden": true
    }
   },
   "outputs": [
    {
     "name": "stdout",
     "output_type": "stream",
     "text": [
      "0.8000    0.8000    0.3500    65.0000        0.0070\n"
     ]
    },
    {
     "name": "stderr",
     "output_type": "stream",
     "text": [
      "C:\\Users\\matia\\Google Drive\\Skole\\Dynamic programming\\DynamicProgramming\\ver6.py:138: RuntimeWarning: overflow encountered in exp\n",
      "  ((np.exp((t-self.theta[3])/self.theta[4]))/(1+np.exp((t-self.theta[3])/self.theta[4])))\n",
      "C:\\Users\\matia\\Google Drive\\Skole\\Dynamic programming\\DynamicProgramming\\ver6.py:138: RuntimeWarning: invalid value encountered in double_scalars\n",
      "  ((np.exp((t-self.theta[3])/self.theta[4]))/(1+np.exp((t-self.theta[3])/self.theta[4])))\n"
     ]
    },
    {
     "name": "stdout",
     "output_type": "stream",
     "text": [
      "model solved in 34.2627489566803 seconds\n"
     ]
    },
    {
     "ename": "IndexError",
     "evalue": "only integers, slices (`:`), ellipsis (`...`), numpy.newaxis (`None`) and integer or boolean arrays are valid indices",
     "output_type": "error",
     "traceback": [
      "\u001b[1;31m---------------------------------------------------------------------------\u001b[0m",
      "\u001b[1;31mIndexError\u001b[0m                                Traceback (most recent call last)",
      "\u001b[1;32m<ipython-input-94-08017b0cebec>\u001b[0m in \u001b[0;36m<module>\u001b[1;34m\u001b[0m\n\u001b[0;32m      2\u001b[0m \u001b[0mmodel6\u001b[0m \u001b[1;33m=\u001b[0m \u001b[0mkarl6\u001b[0m\u001b[1;33m.\u001b[0m\u001b[0mkarlstrom\u001b[0m\u001b[1;33m(\u001b[0m\u001b[1;33m)\u001b[0m\u001b[1;33m\u001b[0m\u001b[1;33m\u001b[0m\u001b[0m\n\u001b[0;32m      3\u001b[0m \u001b[0mdata6\u001b[0m \u001b[1;33m=\u001b[0m \u001b[0mest\u001b[0m\u001b[1;33m.\u001b[0m\u001b[0mread_data\u001b[0m\u001b[1;33m(\u001b[0m\u001b[0mmodel6\u001b[0m\u001b[1;33m,\u001b[0m \u001b[0mver\u001b[0m \u001b[1;33m=\u001b[0m\u001b[1;36m6\u001b[0m\u001b[1;33m)\u001b[0m\u001b[1;33m\u001b[0m\u001b[1;33m\u001b[0m\u001b[0m\n\u001b[1;32m----> 4\u001b[1;33m \u001b[0mtheta_hat\u001b[0m\u001b[1;33m,\u001b[0m \u001b[0mloglik\u001b[0m\u001b[1;33m,\u001b[0m \u001b[0mmodel_new\u001b[0m \u001b[1;33m=\u001b[0m \u001b[0mest\u001b[0m\u001b[1;33m.\u001b[0m\u001b[0mestimate\u001b[0m\u001b[1;33m(\u001b[0m\u001b[0mmodel\u001b[0m\u001b[1;33m=\u001b[0m\u001b[0mmodel6\u001b[0m\u001b[1;33m,\u001b[0m\u001b[0mdata\u001b[0m\u001b[1;33m=\u001b[0m\u001b[0mdata6\u001b[0m\u001b[1;33m,\u001b[0m\u001b[0mtheta0\u001b[0m\u001b[1;33m=\u001b[0m\u001b[1;33m[\u001b[0m\u001b[1;36m0.8\u001b[0m\u001b[1;33m,\u001b[0m\u001b[1;36m0.8\u001b[0m\u001b[1;33m,\u001b[0m\u001b[1;36m0.35\u001b[0m\u001b[1;33m,\u001b[0m\u001b[1;36m65\u001b[0m\u001b[1;33m,\u001b[0m\u001b[1;36m0.007\u001b[0m\u001b[1;33m]\u001b[0m\u001b[1;33m,\u001b[0m\u001b[0mver\u001b[0m\u001b[1;33m=\u001b[0m\u001b[1;36m6\u001b[0m\u001b[1;33m)\u001b[0m\u001b[1;33m\u001b[0m\u001b[1;33m\u001b[0m\u001b[0m\n\u001b[0m",
      "\u001b[1;32m~\\Google Drive\\Skole\\Dynamic programming\\DynamicProgramming\\estimate.py\u001b[0m in \u001b[0;36mestimate\u001b[1;34m(model, data, theta0, ver)\u001b[0m\n\u001b[0;32m     84\u001b[0m     \u001b[0mpnames\u001b[0m \u001b[1;33m=\u001b[0m \u001b[1;33m[\u001b[0m\u001b[1;34m'alpha'\u001b[0m\u001b[1;33m,\u001b[0m\u001b[1;34m'theta1'\u001b[0m\u001b[1;33m,\u001b[0m\u001b[1;34m'theta2'\u001b[0m\u001b[1;33m,\u001b[0m\u001b[1;34m'theta3'\u001b[0m\u001b[1;33m,\u001b[0m\u001b[1;34m'theta4'\u001b[0m\u001b[1;33m]\u001b[0m\u001b[1;33m\u001b[0m\u001b[1;33m\u001b[0m\u001b[0m\n\u001b[0;32m     85\u001b[0m     \u001b[1;31m#theta0 = [model.alpha,model.theta1, model.theta2,model.theta3,model.theta4] Set initial guess to karlstrom values\u001b[0m\u001b[1;33m\u001b[0m\u001b[1;33m\u001b[0m\u001b[1;33m\u001b[0m\u001b[0m\n\u001b[1;32m---> 86\u001b[1;33m     \u001b[0mres\u001b[0m \u001b[1;33m=\u001b[0m \u001b[0moptimize\u001b[0m\u001b[1;33m.\u001b[0m\u001b[0mminimize\u001b[0m\u001b[1;33m(\u001b[0m\u001b[0mll\u001b[0m\u001b[1;33m,\u001b[0m\u001b[0mtheta0\u001b[0m\u001b[1;33m,\u001b[0m \u001b[0margs\u001b[0m \u001b[1;33m=\u001b[0m \u001b[1;33m(\u001b[0m\u001b[0mmodel\u001b[0m\u001b[1;33m,\u001b[0m\u001b[0mdata\u001b[0m\u001b[1;33m,\u001b[0m\u001b[0mpnames\u001b[0m\u001b[1;33m,\u001b[0m\u001b[0mver\u001b[0m\u001b[1;33m)\u001b[0m\u001b[1;33m,\u001b[0m \u001b[0mmethod\u001b[0m \u001b[1;33m=\u001b[0m \u001b[1;34m'BFGS'\u001b[0m\u001b[1;33m,\u001b[0m \u001b[0mtol\u001b[0m \u001b[1;33m=\u001b[0m \u001b[1;36m1e-6\u001b[0m\u001b[1;33m)\u001b[0m\u001b[1;33m\u001b[0m\u001b[1;33m\u001b[0m\u001b[0m\n\u001b[0m\u001b[0;32m     87\u001b[0m \u001b[1;33m\u001b[0m\u001b[0m\n\u001b[0;32m     88\u001b[0m     \u001b[1;31m# Save result\u001b[0m\u001b[1;33m\u001b[0m\u001b[1;33m\u001b[0m\u001b[1;33m\u001b[0m\u001b[0m\n",
      "\u001b[1;32m~\\anaconda3\\lib\\site-packages\\scipy\\optimize\\_minimize.py\u001b[0m in \u001b[0;36mminimize\u001b[1;34m(fun, x0, args, method, jac, hess, hessp, bounds, constraints, tol, callback, options)\u001b[0m\n\u001b[0;32m    612\u001b[0m         \u001b[1;32mreturn\u001b[0m \u001b[0m_minimize_cg\u001b[0m\u001b[1;33m(\u001b[0m\u001b[0mfun\u001b[0m\u001b[1;33m,\u001b[0m \u001b[0mx0\u001b[0m\u001b[1;33m,\u001b[0m \u001b[0margs\u001b[0m\u001b[1;33m,\u001b[0m \u001b[0mjac\u001b[0m\u001b[1;33m,\u001b[0m \u001b[0mcallback\u001b[0m\u001b[1;33m,\u001b[0m \u001b[1;33m**\u001b[0m\u001b[0moptions\u001b[0m\u001b[1;33m)\u001b[0m\u001b[1;33m\u001b[0m\u001b[1;33m\u001b[0m\u001b[0m\n\u001b[0;32m    613\u001b[0m     \u001b[1;32melif\u001b[0m \u001b[0mmeth\u001b[0m \u001b[1;33m==\u001b[0m \u001b[1;34m'bfgs'\u001b[0m\u001b[1;33m:\u001b[0m\u001b[1;33m\u001b[0m\u001b[1;33m\u001b[0m\u001b[0m\n\u001b[1;32m--> 614\u001b[1;33m         \u001b[1;32mreturn\u001b[0m \u001b[0m_minimize_bfgs\u001b[0m\u001b[1;33m(\u001b[0m\u001b[0mfun\u001b[0m\u001b[1;33m,\u001b[0m \u001b[0mx0\u001b[0m\u001b[1;33m,\u001b[0m \u001b[0margs\u001b[0m\u001b[1;33m,\u001b[0m \u001b[0mjac\u001b[0m\u001b[1;33m,\u001b[0m \u001b[0mcallback\u001b[0m\u001b[1;33m,\u001b[0m \u001b[1;33m**\u001b[0m\u001b[0moptions\u001b[0m\u001b[1;33m)\u001b[0m\u001b[1;33m\u001b[0m\u001b[1;33m\u001b[0m\u001b[0m\n\u001b[0m\u001b[0;32m    615\u001b[0m     \u001b[1;32melif\u001b[0m \u001b[0mmeth\u001b[0m \u001b[1;33m==\u001b[0m \u001b[1;34m'newton-cg'\u001b[0m\u001b[1;33m:\u001b[0m\u001b[1;33m\u001b[0m\u001b[1;33m\u001b[0m\u001b[0m\n\u001b[0;32m    616\u001b[0m         return _minimize_newtoncg(fun, x0, args, jac, hess, hessp, callback,\n",
      "\u001b[1;32m~\\anaconda3\\lib\\site-packages\\scipy\\optimize\\optimize.py\u001b[0m in \u001b[0;36m_minimize_bfgs\u001b[1;34m(fun, x0, args, jac, callback, gtol, norm, eps, maxiter, disp, return_all, finite_diff_rel_step, **unknown_options)\u001b[0m\n\u001b[0;32m   1133\u001b[0m         \u001b[0mmaxiter\u001b[0m \u001b[1;33m=\u001b[0m \u001b[0mlen\u001b[0m\u001b[1;33m(\u001b[0m\u001b[0mx0\u001b[0m\u001b[1;33m)\u001b[0m \u001b[1;33m*\u001b[0m \u001b[1;36m200\u001b[0m\u001b[1;33m\u001b[0m\u001b[1;33m\u001b[0m\u001b[0m\n\u001b[0;32m   1134\u001b[0m \u001b[1;33m\u001b[0m\u001b[0m\n\u001b[1;32m-> 1135\u001b[1;33m     sf = _prepare_scalar_function(fun, x0, jac, args=args, epsilon=eps,\n\u001b[0m\u001b[0;32m   1136\u001b[0m                                   finite_diff_rel_step=finite_diff_rel_step)\n\u001b[0;32m   1137\u001b[0m \u001b[1;33m\u001b[0m\u001b[0m\n",
      "\u001b[1;32m~\\anaconda3\\lib\\site-packages\\scipy\\optimize\\optimize.py\u001b[0m in \u001b[0;36m_prepare_scalar_function\u001b[1;34m(fun, x0, jac, args, bounds, epsilon, finite_diff_rel_step, hess)\u001b[0m\n\u001b[0;32m    259\u001b[0m     \u001b[1;31m# ScalarFunction caches. Reuse of fun(x) during grad\u001b[0m\u001b[1;33m\u001b[0m\u001b[1;33m\u001b[0m\u001b[1;33m\u001b[0m\u001b[0m\n\u001b[0;32m    260\u001b[0m     \u001b[1;31m# calculation reduces overall function evaluations.\u001b[0m\u001b[1;33m\u001b[0m\u001b[1;33m\u001b[0m\u001b[1;33m\u001b[0m\u001b[0m\n\u001b[1;32m--> 261\u001b[1;33m     sf = ScalarFunction(fun, x0, args, grad, hess,\n\u001b[0m\u001b[0;32m    262\u001b[0m                         finite_diff_rel_step, bounds, epsilon=epsilon)\n\u001b[0;32m    263\u001b[0m \u001b[1;33m\u001b[0m\u001b[0m\n",
      "\u001b[1;32m~\\anaconda3\\lib\\site-packages\\scipy\\optimize\\_differentiable_functions.py\u001b[0m in \u001b[0;36m__init__\u001b[1;34m(self, fun, x0, args, grad, hess, finite_diff_rel_step, finite_diff_bounds, epsilon)\u001b[0m\n\u001b[0;32m    134\u001b[0m \u001b[1;33m\u001b[0m\u001b[0m\n\u001b[0;32m    135\u001b[0m         \u001b[0mself\u001b[0m\u001b[1;33m.\u001b[0m\u001b[0m_update_fun_impl\u001b[0m \u001b[1;33m=\u001b[0m \u001b[0mupdate_fun\u001b[0m\u001b[1;33m\u001b[0m\u001b[1;33m\u001b[0m\u001b[0m\n\u001b[1;32m--> 136\u001b[1;33m         \u001b[0mself\u001b[0m\u001b[1;33m.\u001b[0m\u001b[0m_update_fun\u001b[0m\u001b[1;33m(\u001b[0m\u001b[1;33m)\u001b[0m\u001b[1;33m\u001b[0m\u001b[1;33m\u001b[0m\u001b[0m\n\u001b[0m\u001b[0;32m    137\u001b[0m \u001b[1;33m\u001b[0m\u001b[0m\n\u001b[0;32m    138\u001b[0m         \u001b[1;31m# Gradient evaluation\u001b[0m\u001b[1;33m\u001b[0m\u001b[1;33m\u001b[0m\u001b[1;33m\u001b[0m\u001b[0m\n",
      "\u001b[1;32m~\\anaconda3\\lib\\site-packages\\scipy\\optimize\\_differentiable_functions.py\u001b[0m in \u001b[0;36m_update_fun\u001b[1;34m(self)\u001b[0m\n\u001b[0;32m    224\u001b[0m     \u001b[1;32mdef\u001b[0m \u001b[0m_update_fun\u001b[0m\u001b[1;33m(\u001b[0m\u001b[0mself\u001b[0m\u001b[1;33m)\u001b[0m\u001b[1;33m:\u001b[0m\u001b[1;33m\u001b[0m\u001b[1;33m\u001b[0m\u001b[0m\n\u001b[0;32m    225\u001b[0m         \u001b[1;32mif\u001b[0m \u001b[1;32mnot\u001b[0m \u001b[0mself\u001b[0m\u001b[1;33m.\u001b[0m\u001b[0mf_updated\u001b[0m\u001b[1;33m:\u001b[0m\u001b[1;33m\u001b[0m\u001b[1;33m\u001b[0m\u001b[0m\n\u001b[1;32m--> 226\u001b[1;33m             \u001b[0mself\u001b[0m\u001b[1;33m.\u001b[0m\u001b[0m_update_fun_impl\u001b[0m\u001b[1;33m(\u001b[0m\u001b[1;33m)\u001b[0m\u001b[1;33m\u001b[0m\u001b[1;33m\u001b[0m\u001b[0m\n\u001b[0m\u001b[0;32m    227\u001b[0m             \u001b[0mself\u001b[0m\u001b[1;33m.\u001b[0m\u001b[0mf_updated\u001b[0m \u001b[1;33m=\u001b[0m \u001b[1;32mTrue\u001b[0m\u001b[1;33m\u001b[0m\u001b[1;33m\u001b[0m\u001b[0m\n\u001b[0;32m    228\u001b[0m \u001b[1;33m\u001b[0m\u001b[0m\n",
      "\u001b[1;32m~\\anaconda3\\lib\\site-packages\\scipy\\optimize\\_differentiable_functions.py\u001b[0m in \u001b[0;36mupdate_fun\u001b[1;34m()\u001b[0m\n\u001b[0;32m    131\u001b[0m \u001b[1;33m\u001b[0m\u001b[0m\n\u001b[0;32m    132\u001b[0m         \u001b[1;32mdef\u001b[0m \u001b[0mupdate_fun\u001b[0m\u001b[1;33m(\u001b[0m\u001b[1;33m)\u001b[0m\u001b[1;33m:\u001b[0m\u001b[1;33m\u001b[0m\u001b[1;33m\u001b[0m\u001b[0m\n\u001b[1;32m--> 133\u001b[1;33m             \u001b[0mself\u001b[0m\u001b[1;33m.\u001b[0m\u001b[0mf\u001b[0m \u001b[1;33m=\u001b[0m \u001b[0mfun_wrapped\u001b[0m\u001b[1;33m(\u001b[0m\u001b[0mself\u001b[0m\u001b[1;33m.\u001b[0m\u001b[0mx\u001b[0m\u001b[1;33m)\u001b[0m\u001b[1;33m\u001b[0m\u001b[1;33m\u001b[0m\u001b[0m\n\u001b[0m\u001b[0;32m    134\u001b[0m \u001b[1;33m\u001b[0m\u001b[0m\n\u001b[0;32m    135\u001b[0m         \u001b[0mself\u001b[0m\u001b[1;33m.\u001b[0m\u001b[0m_update_fun_impl\u001b[0m \u001b[1;33m=\u001b[0m \u001b[0mupdate_fun\u001b[0m\u001b[1;33m\u001b[0m\u001b[1;33m\u001b[0m\u001b[0m\n",
      "\u001b[1;32m~\\anaconda3\\lib\\site-packages\\scipy\\optimize\\_differentiable_functions.py\u001b[0m in \u001b[0;36mfun_wrapped\u001b[1;34m(x)\u001b[0m\n\u001b[0;32m    128\u001b[0m         \u001b[1;32mdef\u001b[0m \u001b[0mfun_wrapped\u001b[0m\u001b[1;33m(\u001b[0m\u001b[0mx\u001b[0m\u001b[1;33m)\u001b[0m\u001b[1;33m:\u001b[0m\u001b[1;33m\u001b[0m\u001b[1;33m\u001b[0m\u001b[0m\n\u001b[0;32m    129\u001b[0m             \u001b[0mself\u001b[0m\u001b[1;33m.\u001b[0m\u001b[0mnfev\u001b[0m \u001b[1;33m+=\u001b[0m \u001b[1;36m1\u001b[0m\u001b[1;33m\u001b[0m\u001b[1;33m\u001b[0m\u001b[0m\n\u001b[1;32m--> 130\u001b[1;33m             \u001b[1;32mreturn\u001b[0m \u001b[0mfun\u001b[0m\u001b[1;33m(\u001b[0m\u001b[0mx\u001b[0m\u001b[1;33m,\u001b[0m \u001b[1;33m*\u001b[0m\u001b[0margs\u001b[0m\u001b[1;33m)\u001b[0m\u001b[1;33m\u001b[0m\u001b[1;33m\u001b[0m\u001b[0m\n\u001b[0m\u001b[0;32m    131\u001b[0m \u001b[1;33m\u001b[0m\u001b[0m\n\u001b[0;32m    132\u001b[0m         \u001b[1;32mdef\u001b[0m \u001b[0mupdate_fun\u001b[0m\u001b[1;33m(\u001b[0m\u001b[1;33m)\u001b[0m\u001b[1;33m:\u001b[0m\u001b[1;33m\u001b[0m\u001b[1;33m\u001b[0m\u001b[0m\n",
      "\u001b[1;32m~\\Google Drive\\Skole\\Dynamic programming\\DynamicProgramming\\estimate.py\u001b[0m in \u001b[0;36mll\u001b[1;34m(theta, model, data, pnames, ver)\u001b[0m\n\u001b[0;32m     65\u001b[0m     \u001b[1;32mif\u001b[0m \u001b[0mver\u001b[0m \u001b[1;33m==\u001b[0m \u001b[1;36m6\u001b[0m\u001b[1;33m:\u001b[0m\u001b[1;33m\u001b[0m\u001b[1;33m\u001b[0m\u001b[0m\n\u001b[0;32m     66\u001b[0m         \u001b[0mra\u001b[0m \u001b[1;33m=\u001b[0m \u001b[0mdata\u001b[0m\u001b[1;33m.\u001b[0m\u001b[0mret_age\u001b[0m\u001b[1;33m\u001b[0m\u001b[1;33m\u001b[0m\u001b[0m\n\u001b[1;32m---> 67\u001b[1;33m         \u001b[0mpr\u001b[0m \u001b[1;33m=\u001b[0m \u001b[0msol\u001b[0m\u001b[1;33m.\u001b[0m\u001b[0mccp\u001b[0m\u001b[1;33m[\u001b[0m\u001b[0mage\u001b[0m\u001b[1;33m,\u001b[0m\u001b[0mw\u001b[0m\u001b[1;33m,\u001b[0m\u001b[0map\u001b[0m\u001b[1;33m,\u001b[0m\u001b[0mm\u001b[0m\u001b[1;33m,\u001b[0m\u001b[0mra\u001b[0m\u001b[1;33m]\u001b[0m\u001b[1;33m\u001b[0m\u001b[1;33m\u001b[0m\u001b[0m\n\u001b[0m\u001b[0;32m     68\u001b[0m     \u001b[1;32melse\u001b[0m\u001b[1;33m:\u001b[0m\u001b[1;33m\u001b[0m\u001b[1;33m\u001b[0m\u001b[0m\n\u001b[0;32m     69\u001b[0m         \u001b[0mpr\u001b[0m \u001b[1;33m=\u001b[0m \u001b[0msol\u001b[0m\u001b[1;33m.\u001b[0m\u001b[0mccp\u001b[0m\u001b[1;33m[\u001b[0m\u001b[0mage\u001b[0m\u001b[1;33m,\u001b[0m\u001b[0mw\u001b[0m\u001b[1;33m,\u001b[0m\u001b[0map\u001b[0m\u001b[1;33m,\u001b[0m\u001b[0mm\u001b[0m\u001b[1;33m]\u001b[0m\u001b[1;33m\u001b[0m\u001b[1;33m\u001b[0m\u001b[0m\n",
      "\u001b[1;31mIndexError\u001b[0m: only integers, slices (`:`), ellipsis (`...`), numpy.newaxis (`None`) and integer or boolean arrays are valid indices"
     ]
    }
   ],
   "source": [
    "# Estimation\n",
    "#model6 = karl6.karlstrom()\n",
    "#data6 = est.read_data(model6, ver =6)\n",
    "#theta_hat, loglik, model_new = est.estimate(model=model6,data=data6,theta0=[0.8,0.8,0.35,65,0.007],ver=6)"
   ]
  },
  {
   "cell_type": "code",
   "execution_count": 22,
   "metadata": {},
   "outputs": [
    {
     "name": "stdout",
     "output_type": "stream",
     "text": [
      "model solved in 35.11057114601135 seconds\n"
     ]
    }
   ],
   "source": [
    "# Setup model, solution and data\n",
    "import ver6 as karl6\n",
    "model6 = karl6.karlstrom()\n",
    "sol6 = model6.bellman()\n",
    "model6.theta = [0.3424,-2.0450,0.7610,65.4905,0.0070]\n",
    "data6 = est.read_data(model6, ver =6)\n"
   ]
  },
  {
   "cell_type": "code",
   "execution_count": 28,
   "metadata": {},
   "outputs": [
    {
     "name": "stdout",
     "output_type": "stream",
     "text": [
      "[0.13834409 0.20064779 0.33083276 0.40426432 0.45456213 0.61537124\n",
      " 0.78598655 0.81751246 0.52991317 1.         1.        ] \n",
      "\n",
      " 66.47526036235556\n"
     ]
    }
   ],
   "source": [
    "# Hazard\n",
    "\n",
    "data6 = est.read_data(model6, ver=6)\n",
    "\n",
    "age = data6.age_index\n",
    "w = data6.w_index\n",
    "ra = data6.ret_age\n",
    "ra = ra.astype(int)\n",
    "data6[\"i_ra\"] = ra-60\n",
    "ira = data6.i_ra\n",
    "ira = ira.astype(int)\n",
    "ap = data6.ap_index\n",
    "m = data6.married\n",
    "\n",
    "data6[\"ccp\"] = sol6.ccp[age,w,ap,m,ira]\n",
    "\n",
    "\n",
    "pr = np.zeros(np.size(model6.t_grid))\n",
    "for t in range (np.size(model6.t_grid)):\n",
    "    pr[t] = np.mean(data6[data6[\"age_index\"]==t].ccp)\n",
    "    \n",
    "    \n",
    "\n",
    "\n",
    "hazard = 1-pr[10:21]\n",
    "hazard[-1] = 1\n",
    "sum_hazard = np.sum(hazard)\n",
    "age = [60,61,62,63,64,65,66,67,68,69,70]\n",
    "\n",
    "Eretire = np.sum(hazard*age)/sum_hazard\n",
    "\n",
    "print(hazard,'\\n\\n',Eretire)"
   ]
  },
  {
   "cell_type": "code",
   "execution_count": 24,
   "metadata": {},
   "outputs": [
    {
     "data": {
      "image/png": "[encoded data removed]",
      "text/plain": [
       "<Figure size 720x360 with 2 Axes>"
      ]
     },
     "metadata": {},
     "output_type": "display_data"
    }
   ],
   "source": [
    "# Fitted on data\n",
    "\n",
    "# Create array for ccp age averages\n",
    "pr = np.zeros(np.size(model5_new.t_grid))\n",
    "\n",
    "# Loop over ages computing averages\n",
    "for t in range (np.size(model5_new.t_grid)):\n",
    "    pr[t] = np.mean(data5_new[data5_new[\"age_index\"]==t].ccp)\n",
    "\n",
    "# Get cumulative product of age averages\n",
    "ccp6_data = np.cumprod(pr[8:21])\n",
    "\n",
    "\n",
    "# Matched on moments\n",
    "y = np.zeros(np.size(model5_new.t_grid))\n",
    "\n",
    "for it, t in enumerate(model5_new.t_grid):\n",
    "    y[it] = np.mean(sol5_new.ccp[it,11,6,1])\n",
    "    \n",
    "ccp6_moment = np.cumprod(y[8:21])\n",
    "\n",
    "\n",
    "# Plot of CCP\n",
    "\n",
    "# Plot on data\n",
    "fig, ax = plt.subplots(1,2, figsize=(10,5))\n",
    "ax[0].plot(model6.t_grid[8:21],ccp6_data, label='model 6')\n",
    "ax[0].plot(model6.t_grid[8:21], CCP_s, label='data')\n",
    "\n",
    "ax[0].set_ylabel('Share of population working')\n",
    "ax[0].set_xlabel('Age')\n",
    "ax[0].legend(frameon=False)\n",
    "\n",
    "#plot on moments\n",
    "ax[1].plot(model6.t_grid[8:21],ccp6_moment, label='model 6')\n",
    "ax[1].plot(model6.t_grid[8:21], CCP_s, label = 'data')\n",
    "\n",
    "ax[1].set_ylabel('Share of population working')\n",
    "ax[1].set_xlabel('Age')\n",
    "\n",
    "ax[1].legend(frameon=False)\n",
    "\n",
    "fig.savefig(os.getcwd() + '\\Figures\\ccp6.png')"
   ]
  }
 ],
 "metadata": {
  "kernelspec": {
   "display_name": "Python 3 (ipykernel)",
   "language": "python",
   "name": "python3"
  },
  "language_info": {
   "codemirror_mode": {
    "name": "ipython",
    "version": 3
   },
   "file_extension": ".py",
   "mimetype": "text/x-python",
   "name": "python",
   "nbconvert_exporter": "python",
   "pygments_lexer": "ipython3",
   "version": "3.9.13"
  }
 },
 "nbformat": 4,
 "nbformat_minor": 4
}
